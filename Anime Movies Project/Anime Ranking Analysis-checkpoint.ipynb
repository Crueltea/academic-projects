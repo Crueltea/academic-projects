{
 "cells": [
  {
   "cell_type": "code",
   "execution_count": 8,
   "id": "46ead0c6-9146-4405-8e21-31cb8e823dc1",
   "metadata": {},
   "outputs": [
    {
     "data": {
      "text/html": [
       "\n",
       "<script\n",
       "    src=\"https://cdnjs.cloudflare.com/ajax/libs/jquery/2.0.3/jquery.min.js \">\n",
       "</script>\n",
       "<script>\n",
       "code_show=true; \n",
       "function code_toggle() {\n",
       " if (code_show){\n",
       " $('div.jp-CodeCell > div.jp-Cell-inputWrapper').hide();\n",
       " } else {\n",
       "$('div.jp-CodeCell > div.jp-Cell-inputWrapper').show();\n",
       " }\n",
       " code_show = !code_show\n",
       "} \n",
       "$( document ).ready(code_toggle);\n",
       "</script>\n",
       "<form action=\"javascript:code_toggle()\"><input type=\"submit\"\n",
       "    value=\"Click here to toggle on/off the raw code.\"></form>\n"
      ],
      "text/plain": [
       "<IPython.core.display.HTML object>"
      ]
     },
     "execution_count": 8,
     "metadata": {},
     "output_type": "execute_result"
    }
   ],
   "source": [
    "import os \n",
    "import sys\n",
    "import numpy as np\n",
    "import pandas as pd\n",
    "from pyspark.sql import SparkSession\n",
    "from pyspark.sql.functions import col, regexp_replace, trim\n",
    "from pyspark.sql.types import StringType, IntegerType\n",
    "from numpy.testing import assert_equal, assert_allclose\n",
    "from IPython.display import HTML\n",
    "os.environ['PYSPARK_PYTHON'] = sys.executable\n",
    "os.environ['PYSPARK_DRIVER_PYTHON'] = sys.executable\n",
    "HTML('''\n",
    "<script\n",
    "    src=\"https://cdnjs.cloudflare.com/ajax/libs/jquery/2.0.3/jquery.min.js \">\n",
    "</script>\n",
    "<script>\n",
    "code_show=true; \n",
    "function code_toggle() {\n",
    " if (code_show){\n",
    " $('div.jp-CodeCell > div.jp-Cell-inputWrapper').hide();\n",
    " } else {\n",
    "$('div.jp-CodeCell > div.jp-Cell-inputWrapper').show();\n",
    " }\n",
    " code_show = !code_show\n",
    "} \n",
    "$( document ).ready(code_toggle);\n",
    "</script>\n",
    "<form action=\"javascript:code_toggle()\"><input type=\"submit\"\n",
    "    value=\"Click here to toggle on/off the raw code.\"></form>\n",
    "''')\n"
   ]
  },
  {
   "cell_type": "markdown",
   "id": "58e13122-7f19-4a71-94c0-047bdd14c458",
   "metadata": {
    "tags": []
   },
   "source": [
    "<h1 style=\"text-align:center;\">Anime Movie Acquisition Exploratory Data Analysis</h1>\n",
    "<hr>\n",
    "\n",
    "<a name=\"top\"></a>\n",
    "#### Table of Contents:\n",
    "\n",
    "[ref0]: #abs\n",
    "- [Executive Summary][ref0]\n",
    "\n",
    "[ref1]: #prob_stat\n",
    "- [Problem Statement][ref1]\n",
    "\n",
    "[ref2]: #obj\n",
    "- [Objectives][ref2]\n",
    "\n",
    "[ref3]: #dat_src\n",
    "- [Data Source][ref3]\n",
    "\n",
    "[ref4]: #dat_prep\n",
    "- [Data Preprocessing][ref4]\n",
    "\n",
    "[ref5]: #dat_expl\n",
    "- [Data Exploration][ref5]\n",
    "\n",
    "[ref6]: #conc\n",
    "- [Conclusion and Recommendations][ref6]\n",
    "\n",
    "\n",
    "***"
   ]
  },
  {
   "cell_type": "markdown",
   "id": "6c629d1a",
   "metadata": {},
   "source": [
    "<a name=\"abs\"></a>\n",
    "## Executive Summary\n",
    "This section provides a short summary of the whole notebook. Problem statement and significant insights are briefly discussed.\n",
    "***\n",
    "A leading movie streaming service aims to enhance its content library by adding high-quality anime movies. The marketing team has identified the need to prioritize the top-rated anime films for licensing agreements to attract a significant anime fanbase and increase user engagement and subscription rates. To achieve this, an Exploratory Data Analysis (EDA) was conducted using PySpark SQL on the Anime_rank dataset sourced from MyAnimeList. The primary objective was to identify the top 10 anime movies with a rating score of 7.5 or higher and over one million members. After data preprocessing, including cleaning and standardizing, the analysis revealed the top 10 anime movies: \"Koe no Katachi (A Silent Voice),\" \"Kimi no Na wa. (Your Name),\" \"Tenki no Ko (Weathering With You),\" \"Tonari no Totoro (My Neighbor Totoro),\" \"Sen to Chihiro no Kamikakushi (Spirited Away),\" \"Howl no Ugoku Shiro (Howl's Moving Castle),\" and \"Mononoke Hime (Princess Mononoke),\" among others. These findings will guide the marketing team in selecting popular and critically acclaimed anime films for licensing, ensuring targeted and effective marketing efforts that attract a dedicated anime audience.\n",
    "\n",
    "\n",
    "[ref]: #top\n",
    "[Back to Table of Contents][ref]"
   ]
  },
  {
   "cell_type": "markdown",
   "id": "cb984982-ae7d-4b03-92bb-a338fb166565",
   "metadata": {},
   "source": [
    "<a name=\"prob_stat\"></a>\n",
    "## Problem Statement\n",
    "This section discusses the description of the issue that needs to be addressed. \n",
    "***\n",
    "A leading movie streaming service is looking to expand its content library by incorporating high-quality anime movies. To achieve this, the marketing team aims to identify the top-rated anime movies to prioritize for licensing agreements with the respective studios. This strategic move is expected to attract a significant anime fanbase, enhancing the platform's user engagement and subscription rates. By leveraging the Anime_rank dataset, we will perform an Exploratory Data Analysis (EDA) with PySpark SQL.\n",
    "\n",
    "[ref]: #top\n",
    "[Back to Table of Contents][ref]"
   ]
  },
  {
   "cell_type": "markdown",
   "id": "2d162d08",
   "metadata": {},
   "source": [
    "<a name=\"obj\"></a>\n",
    "## Objectives\n",
    "This section lists the intended outcomes of the study.\n",
    "***\n",
    "1. Data Collection\n",
    "    - Gather a comprehensive dataset of anime movies, including information on user ratings, number of reviews, release dates, and genre.\n",
    "\n",
    "2. Top 10 Identification\n",
    "    - Particularly interested in determining which anime movies have one million or more members and a rating score of 7.5 or higher.\n",
    "\n",
    "[ref]: #top\n",
    "[Back to Table of Contents][ref]"
   ]
  },
  {
   "cell_type": "markdown",
   "id": "e3783f06",
   "metadata": {},
   "source": [
    "<a name=\"dat_set\"></a>\n",
    "## Dataset\n",
    "This section reveals the origin and a brief overview of the data set.\n",
    "***\n",
    "The dataset was collected from the popular anime forum site, MyAnimeList. The dataset used in this study is readily available on a data repository website\n",
    "[Top Anime Ranked](https://www.kaggle.com/datasets/manishpingale/top-anime-ranked)\n",
    "\n",
    "\n",
    "[ref]: #top\n",
    "[Back to Table of Contents][ref]"
   ]
  },
  {
   "cell_type": "markdown",
   "id": "4ddae4a4-5bf2-4e10-a914-93c75fd698bf",
   "metadata": {},
   "source": [
    "<a name=\"dat_prep\"></a>\n",
    "## Data Preprocessing\n",
    "This section shows the cleaning and displays the column preparation of the dataset before using for analysis\n",
    "***"
   ]
  },
  {
   "cell_type": "markdown",
   "id": "5941f0d5",
   "metadata": {},
   "source": [
    "#### Spark Instantiation"
   ]
  },
  {
   "cell_type": "code",
   "execution_count": 9,
   "id": "9226ab39-8b64-4ca2-b0c0-8e35608369a5",
   "metadata": {},
   "outputs": [],
   "source": [
    "spark = SparkSession.builder \\\n",
    "    .appName(\"EDA with PySpark SQL\") \\\n",
    "    .getOrCreate()"
   ]
  },
  {
   "cell_type": "code",
   "execution_count": 11,
   "id": "82a1eea6-e3a9-43f9-8b26-948cadddcb94",
   "metadata": {},
   "outputs": [],
   "source": [
    "anime_spark_df = spark.read.csv(\n",
    "    'Anime_rank.csv',\n",
    "    header=True, inferSchema=True\n",
    ")"
   ]
  },
  {
   "cell_type": "markdown",
   "id": "833bece0",
   "metadata": {},
   "source": [
    "#### Data Viewing"
   ]
  },
  {
   "cell_type": "code",
   "execution_count": 12,
   "id": "e2f765ef-9768-40b4-ab91-62d9b3f77405",
   "metadata": {},
   "outputs": [
    {
     "name": "stdout",
     "output_type": "stream",
     "text": [
      "root\n",
      " |-- UID: integer (nullable = true)\n",
      " |-- Title: string (nullable = true)\n",
      " |-- Rank: string (nullable = true)\n",
      " |-- Stream type: string (nullable = true)\n",
      " |-- Episodes: string (nullable = true)\n",
      " |-- Start date: string (nullable = true)\n",
      " |-- End date: string (nullable = true)\n",
      " |-- Members: string (nullable = true)\n",
      " |-- Score: string (nullable = true)\n",
      "\n",
      "+---+--------------------+----+-----------+--------+----------+---------+----------+-----+\n",
      "|UID|               Title|Rank|Stream type|Episodes|Start date| End date|   Members|Score|\n",
      "+---+--------------------+----+-----------+--------+----------+---------+----------+-----+\n",
      "|  1|   Sousou no Frieren|   1|        TV |    28.0| Sep 2023 | Mar 2024|  800,615 | 9.35|\n",
      "|  2|Fullmetal Alchemi...|   2|        TV |    64.0| Apr 2009 | Jul 2010|3,373,923 | 9.09|\n",
      "|  3|         Steins;Gate|   3|        TV |    24.0| Apr 2011 | Sep 2011|2,584,616 | 9.07|\n",
      "|  4|            Gintama°|   4|        TV |    51.0| Apr 2015 | Mar 2016|  636,631 | 9.06|\n",
      "|  5|Shingeki no Kyoji...|   5|        TV |    10.0| Apr 2019 | Jul 2019|2,305,044 | 9.05|\n",
      "|  6|  Gintama: The Final|   6|     Movie |     1.0| Jan 2021 | Jan 2021|  153,317 | 9.04|\n",
      "|  7|            Gintama'|   7|        TV |    51.0| Apr 2011 | Mar 2012|  561,485 | 9.03|\n",
      "|  8|Hunter x Hunter (...|   8|        TV |   148.0| Oct 2011 | Sep 2014|2,863,958 | 9.03|\n",
      "|  9|Ginga Eiyuu Densetsu|   9|       OVA |   110.0| Jan 1988 | Mar 1997|  325,595 | 9.02|\n",
      "| 10| Gintama': Enchousen|  10|        TV |    13.0| Oct 2012 | Mar 2013|  328,147 | 9.02|\n",
      "| 11|Bleach: Sennen Ke...|  11|        TV |    13.0| Oct 2022 | Dec 2022|  554,516 | 9.01|\n",
      "| 12|Kaguya-sama wa Ko...|  12|        TV |    13.0| Apr 2022 | Jun 2022|  945,499 | 9.01|\n",
      "| 13|            Gintama.|  13|        TV |    12.0| Jan 2017 | Mar 2017|  317,604 | 8.98|\n",
      "| 14|Fruits Basket: Th...|  14|        TV |    13.0| Apr 2021 | Jun 2021|  486,150 | 8.97|\n",
      "| 15|Monogatari Series...|  15|       ONA |    NULL| Jul 2024 |     NULL|   44,235 | 8.97|\n",
      "+---+--------------------+----+-----------+--------+----------+---------+----------+-----+\n",
      "only showing top 15 rows\n",
      "\n"
     ]
    }
   ],
   "source": [
    "anime_spark_df.printSchema()\n",
    "anime_spark_df.show(15)"
   ]
  },
  {
   "cell_type": "code",
   "execution_count": 13,
   "id": "eaed47ae-7fa5-407f-8aaa-378c210c0587",
   "metadata": {},
   "outputs": [],
   "source": [
    "anime_spark_df = anime_spark_df.withColumn('Members', \n",
    "                                           regexp_replace('Members', ',', '').cast('int'))\n",
    "anime_spark_df = anime_spark_df.withColumn('Score', \n",
    "                                           col('Score').cast('float'))"
   ]
  },
  {
   "cell_type": "code",
   "execution_count": 14,
   "id": "069e579c-a5b1-497f-8a25-f38b871631c1",
   "metadata": {},
   "outputs": [
    {
     "name": "stdout",
     "output_type": "stream",
     "text": [
      "root\n",
      " |-- UID: integer (nullable = true)\n",
      " |-- Title: string (nullable = true)\n",
      " |-- Rank: string (nullable = true)\n",
      " |-- Stream type: string (nullable = true)\n",
      " |-- Episodes: string (nullable = true)\n",
      " |-- Start date: string (nullable = true)\n",
      " |-- End date: string (nullable = true)\n",
      " |-- Members: integer (nullable = true)\n",
      " |-- Score: float (nullable = true)\n",
      "\n"
     ]
    }
   ],
   "source": [
    "anime_spark_df.printSchema()"
   ]
  },
  {
   "cell_type": "code",
   "execution_count": 15,
   "id": "e4950d5c-f551-4118-bdf3-d2e07f202913",
   "metadata": {},
   "outputs": [],
   "source": [
    "anime_spark_df = anime_spark_df.withColumn('Stream type', trim(col('Stream type')))"
   ]
  },
  {
   "cell_type": "code",
   "execution_count": 16,
   "id": "994cac42-bbc3-4b4f-9e06-c3529d2d46de",
   "metadata": {},
   "outputs": [
    {
     "name": "stdout",
     "output_type": "stream",
     "text": [
      "+-----------+\n",
      "|Stream type|\n",
      "+-----------+\n",
      "|         TV|\n",
      "|    Special|\n",
      "|       6683|\n",
      "|        OVA|\n",
      "|      Movie|\n",
      "|        ONA|\n",
      "|       3457|\n",
      "| TV Special|\n",
      "+-----------+\n",
      "\n"
     ]
    }
   ],
   "source": [
    "distinct_stream_types = anime_spark_df.select('Stream type').distinct()\n",
    "distinct_stream_types.show()"
   ]
  },
  {
   "cell_type": "markdown",
   "id": "cec54557-d393-4c55-b895-226ddadb69cd",
   "metadata": {},
   "source": [
    "#### Filtering"
   ]
  },
  {
   "cell_type": "code",
   "execution_count": 17,
   "id": "6315d517-0f2c-48ff-8b69-0034151c4b0e",
   "metadata": {},
   "outputs": [
    {
     "name": "stdout",
     "output_type": "stream",
     "text": [
      "+---+-------------------------------------------------------+----+-----------+--------+----------+---------+-------+-----+\n",
      "|UID|Title                                                  |Rank|Stream type|Episodes|Start date|End date |Members|Score|\n",
      "+---+-------------------------------------------------------+----+-----------+--------+----------+---------+-------+-----+\n",
      "|6  |Gintama: The Final                                     |6   |Movie      |1.0     |Jan 2021  | Jan 2021|153317 |9.04 |\n",
      "|16 |Koe no Katachi                                         |16  |Movie      |1.0     |Sep 2016  | Sep 2016|2355457|8.93 |\n",
      "|21 |Gintama Movie 2: Kanketsu-hen - Yorozuya yo Eien Nare  |21  |Movie      |1.0     |Jul 2013  | Jul 2013|242729 |8.9  |\n",
      "|27 |Violet Evergarden Movie                                |27  |Movie      |1.0     |Sep 2020  | Sep 2020|621318 |8.86 |\n",
      "|28 |Kimi no Na wa.                                         |28  |Movie      |1.0     |Aug 2016  | Aug 2016|2768297|8.84 |\n",
      "|35 |Kizumonogatari III: Reiketsu-hen                       |35  |Movie      |1.0     |Jan 2017  | Jan 2017|467052 |8.78 |\n",
      "|39 |Kaguya-sama wa Kokurasetai: First Kiss wa Owaranai     |39  |Movie      |1.0     |Dec 2022  | Dec 2022|274831 |8.77 |\n",
      "|40 |Sen to Chihiro no Kamikakushi                          |40  |Movie      |1.0     |Jul 2001  | Jul 2001|1871461|8.77 |\n",
      "|46 |The First Slam Dunk                                    |46  |Movie      |1.0     |Dec 2022  | Dec 2022|46912  |8.75 |\n",
      "|66 |Haikyuu!! Movie: Gomisuteba no Kessen                  |66  |Movie      |1.0     |Feb 2024  | Feb 2024|127306 |8.67 |\n",
      "|68 |Fate/stay night Movie: Heaven's Feel - III. Spring Song|68  |Movie      |1.0     |Aug 2020  | Aug 2020|356259 |8.66 |\n",
      "|69 |Howl no Ugoku Shiro                                    |69  |Movie      |1.0     |Nov 2004  | Nov 2004|1353704|8.66 |\n",
      "|70 |Mononoke Hime                                          |70  |Movie      |1.0     |Jul 1997  | Jul 1997|1268189|8.66 |\n",
      "|87 |Made in Abyss Movie 3: Fukaki Tamashii no Reimei       |87  |Movie      |1.0     |Jan 2020  | Jan 2020|470162 |8.61 |\n",
      "|92 |Suzumiya Haruhi no Shoushitsu                          |92  |Movie      |1.0     |Feb 2010  | Feb 2010|614062 |8.6  |\n",
      "|95 |Mushishi Zoku Shou: Suzu no Shizuku                    |95  |Movie      |1.0     |May 2015  | May 2015|130156 |8.59 |\n",
      "|96 |Seishun Buta Yarou wa Yumemiru Shoujo no Yume wo Minai |96  |Movie      |1.0     |Jun 2019  | Jun 2019|719888 |8.59 |\n",
      "|97 |Shin Evangelion Movie:||                               |97  |Movie      |1.0     |Mar 2021  | Mar 2021|379563 |8.59 |\n",
      "|98 |Tengen Toppa Gurren Lagann Movie 2: Lagann-hen         |98  |Movie      |1.0     |Apr 2009  | Apr 2009|219129 |8.58 |\n",
      "|99 |Kimetsu no Yaiba Movie: Mugen Ressha-hen               |99  |Movie      |1.0     |Oct 2020  | Oct 2020|1564434|8.58 |\n",
      "+---+-------------------------------------------------------+----+-----------+--------+----------+---------+-------+-----+\n",
      "only showing top 20 rows\n",
      "\n"
     ]
    }
   ],
   "source": [
    "anime_spark_df.filter(col('Stream type') == 'Movie').show(truncate=False)"
   ]
  },
  {
   "cell_type": "code",
   "execution_count": 18,
   "id": "85dc3540-d8af-43a1-84cf-909dbb08c327",
   "metadata": {},
   "outputs": [],
   "source": [
    "anime_spark_df_movies = anime_spark_df.filter(col('Stream type') == 'Movie')"
   ]
  },
  {
   "cell_type": "code",
   "execution_count": 19,
   "id": "c1909bcf-88e7-47cf-a574-77fcd120914e",
   "metadata": {},
   "outputs": [
    {
     "name": "stdout",
     "output_type": "stream",
     "text": [
      "+---+--------------------+----+-----------+--------+----------+---------+-------+-----+\n",
      "|UID|               Title|Rank|Stream type|Episodes|Start date| End date|Members|Score|\n",
      "+---+--------------------+----+-----------+--------+----------+---------+-------+-----+\n",
      "|  6|  Gintama: The Final|   6|      Movie|     1.0| Jan 2021 | Jan 2021| 153317| 9.04|\n",
      "| 16|      Koe no Katachi|  16|      Movie|     1.0| Sep 2016 | Sep 2016|2355457| 8.93|\n",
      "| 21|Gintama Movie 2: ...|  21|      Movie|     1.0| Jul 2013 | Jul 2013| 242729|  8.9|\n",
      "| 27|Violet Evergarden...|  27|      Movie|     1.0| Sep 2020 | Sep 2020| 621318| 8.86|\n",
      "| 28|      Kimi no Na wa.|  28|      Movie|     1.0| Aug 2016 | Aug 2016|2768297| 8.84|\n",
      "+---+--------------------+----+-----------+--------+----------+---------+-------+-----+\n",
      "only showing top 5 rows\n",
      "\n"
     ]
    }
   ],
   "source": [
    "anime_spark_df_movies.show(5)"
   ]
  },
  {
   "cell_type": "markdown",
   "id": "ce85b1c3-27b4-4c72-8870-c7f9159b76cf",
   "metadata": {},
   "source": [
    "#### Null Handling"
   ]
  },
  {
   "cell_type": "code",
   "execution_count": 20,
   "id": "6193a7f7-7efd-4c63-8066-290c5c8ddd62",
   "metadata": {},
   "outputs": [],
   "source": [
    "anime_spark_df_movies = anime_spark_df_movies.dropna()"
   ]
  },
  {
   "cell_type": "code",
   "execution_count": 21,
   "id": "32ea9101-4135-464d-abae-053abc6b70a3",
   "metadata": {},
   "outputs": [
    {
     "name": "stdout",
     "output_type": "stream",
     "text": [
      "+---+--------------------+----+-----------+--------+----------+---------+-------+-----+\n",
      "|UID|               Title|Rank|Stream type|Episodes|Start date| End date|Members|Score|\n",
      "+---+--------------------+----+-----------+--------+----------+---------+-------+-----+\n",
      "|  6|  Gintama: The Final|   6|      Movie|     1.0| Jan 2021 | Jan 2021| 153317| 9.04|\n",
      "| 16|      Koe no Katachi|  16|      Movie|     1.0| Sep 2016 | Sep 2016|2355457| 8.93|\n",
      "| 21|Gintama Movie 2: ...|  21|      Movie|     1.0| Jul 2013 | Jul 2013| 242729|  8.9|\n",
      "| 27|Violet Evergarden...|  27|      Movie|     1.0| Sep 2020 | Sep 2020| 621318| 8.86|\n",
      "| 28|      Kimi no Na wa.|  28|      Movie|     1.0| Aug 2016 | Aug 2016|2768297| 8.84|\n",
      "+---+--------------------+----+-----------+--------+----------+---------+-------+-----+\n",
      "only showing top 5 rows\n",
      "\n"
     ]
    }
   ],
   "source": [
    "anime_spark_df_movies.show(5)"
   ]
  },
  {
   "cell_type": "markdown",
   "id": "d0fe21a6-1e13-4223-9410-82c3bb4ebb3d",
   "metadata": {},
   "source": [
    "<a name=\"dat_expl\"></a>\n",
    "## Data Exploration\n",
    "This section demonstrates that the dataframe is manipulated to extract the needed values.  By coding, a graphical representation of the data is possible.\n",
    "***"
   ]
  },
  {
   "cell_type": "code",
   "execution_count": 22,
   "id": "63791295-1831-4579-88a9-404479669924",
   "metadata": {},
   "outputs": [],
   "source": [
    "anime_spark_df_movies.createOrReplaceTempView('anime_movies')"
   ]
  },
  {
   "cell_type": "code",
   "execution_count": 24,
   "id": "8d389a90-3b47-4578-a9ab-eea223e84238",
   "metadata": {},
   "outputs": [
    {
     "name": "stdout",
     "output_type": "stream",
     "text": [
      "+---+--------------------+----+-----------+--------+----------+---------+-------+-----+\n",
      "|UID|               Title|Rank|Stream type|Episodes|Start date| End date|Members|Score|\n",
      "+---+--------------------+----+-----------+--------+----------+---------+-------+-----+\n",
      "| 16|      Koe no Katachi|  16|      Movie|     1.0| Sep 2016 | Sep 2016|2355457| 8.93|\n",
      "| 28|      Kimi no Na wa.|  28|      Movie|     1.0| Aug 2016 | Aug 2016|2768297| 8.84|\n",
      "|294|         Tenki no Ko| 294|      Movie|     1.0| Jul 2019 | Jul 2019|1012751| 8.27|\n",
      "|322|    Tonari no Totoro| 322|      Movie|     1.0| Apr 1988 | Apr 1988|1075024| 8.25|\n",
      "| 40|Sen to Chihiro no...|  40|      Movie|     1.0| Jul 2001 | Jul 2001|1871461| 8.77|\n",
      "| 69| Howl no Ugoku Shiro|  69|      Movie|     1.0| Nov 2004 | Nov 2004|1353704| 8.66|\n",
      "| 70|       Mononoke Hime|  70|      Movie|     1.0| Jul 1997 | Jul 1997|1268189| 8.66|\n",
      "| 99|Kimetsu no Yaiba ...|  99|      Movie|     1.0| Oct 2020 | Oct 2020|1564434| 8.58|\n",
      "+---+--------------------+----+-----------+--------+----------+---------+-------+-----+\n",
      "\n"
     ]
    }
   ],
   "source": [
    "query = \"\"\"\n",
    "    SELECT *\n",
    "    FROM anime_movies \n",
    "    WHERE Members >= 1000000 AND Score >= 7.5\n",
    "    ORDER BY Rank ASC \n",
    "    LIMIT 10\n",
    "\"\"\"\n",
    "top_anime_movies = spark.sql(query)\n",
    "top_anime_movies.show(10)"
   ]
  },
  {
   "cell_type": "code",
   "execution_count": null,
   "id": "69ad4c53",
   "metadata": {},
   "outputs": [],
   "source": []
  },
  {
   "cell_type": "markdown",
   "id": "f22b5faa-d5a4-4920-9865-ea4b5367f4c2",
   "metadata": {},
   "source": [
    "<a name=\"conc\"></a>\n",
    "## Conclusion and Recommendations\n",
    "***\n",
    "\n",
    "**<u>Conclusion<u>** \n",
    "    \n",
    "The filtered table reveals that anime movies with a high number of members(over 1 million) and high scores(7.5 or higher) are both popular and critically acclaimed. Iconic titles such as \"Kimi no Nawa\" (Your Name), \"Sen to Chihiro no Kamikakushi\" (Spirited Away), and \"Mononoke Hime\" (Princess Mononoke) feature prominently, highlighting their widespread appeal and enduring popularity. These movies span various release years, from \"Tonari no totoro\" (My Neighbor Totoro) in 1988 to \"Kimetsu no Yaiba\" (Demon Slayer) in 2020, indicating that excellent anime films are produced consistently over time.\n",
    "    \n",
    "**<u>Recommendations:<u>**\n",
    "\n",
    "1. **Leverage Popular Titles**: Utilize the popularity of iconic titles to promote newer releases through collaborations, re-releases, or sequels\n",
    "    \n",
    "2. **Analyze Trends**: Further analysis of attributes such as genres, directors, and studios can provide deeper insights into the factors driving success, guiding future productions and marketing strategies.\n",
    "\n",
    "3. **Uncover Hidden Gems**: Titles that have a decent following and a relatively high score might prove to be easily acquirable and add watch time\n",
    "\n",
    "[ref]: #top\n",
    "[Back to Table of Contents][ref]"
   ]
  },
  {
   "cell_type": "code",
   "execution_count": null,
   "id": "87a5d8ba",
   "metadata": {},
   "outputs": [],
   "source": []
  }
 ],
 "metadata": {
  "kernelspec": {
   "display_name": "Python 3 (ipykernel)",
   "language": "python",
   "name": "python3"
  },
  "language_info": {
   "codemirror_mode": {
    "name": "ipython",
    "version": 3
   },
   "file_extension": ".py",
   "mimetype": "text/x-python",
   "name": "python",
   "nbconvert_exporter": "python",
   "pygments_lexer": "ipython3",
   "version": "3.10.9"
  }
 },
 "nbformat": 4,
 "nbformat_minor": 5
}
