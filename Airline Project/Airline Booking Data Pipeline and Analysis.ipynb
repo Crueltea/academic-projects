{
 "cells": [
  {
   "cell_type": "code",
   "execution_count": 5,
   "id": "b26fce28-ff1c-4dd7-ab3d-09ebc9b4928c",
   "metadata": {},
   "outputs": [
    {
     "data": {
      "text/html": [
       "\n",
       "<script\n",
       "    src=\"https://cdnjs.cloudflare.com/ajax/libs/jquery/2.0.3/jquery.min.js \">\n",
       "</script>\n",
       "<script>\n",
       "code_show=true; \n",
       "function code_toggle() {\n",
       " if (code_show){\n",
       " $('div.jp-CodeCell > div.jp-Cell-inputWrapper').hide();\n",
       " } else {\n",
       "$('div.jp-CodeCell > div.jp-Cell-inputWrapper').show();\n",
       " }\n",
       " code_show = !code_show\n",
       "} \n",
       "$( document ).ready(code_toggle);\n",
       "</script>\n",
       "<form action=\"javascript:code_toggle()\"><input type=\"submit\"\n",
       "    value=\"Click here to toggle on/off the raw code.\"></form>\n"
      ],
      "text/plain": [
       "<IPython.core.display.HTML object>"
      ]
     },
     "execution_count": 5,
     "metadata": {},
     "output_type": "execute_result"
    }
   ],
   "source": [
    "import numpy as np\n",
    "import pandas as pd\n",
    "import sqlite3\n",
    "import re\n",
    "import matplotlib.pyplot as plt\n",
    "import random\n",
    "from faker import Faker\n",
    "from IPython.display import HTML\n",
    "HTML('''\n",
    "<script\n",
    "    src=\"https://cdnjs.cloudflare.com/ajax/libs/jquery/2.0.3/jquery.min.js \">\n",
    "</script>\n",
    "<script>\n",
    "code_show=true; \n",
    "function code_toggle() {\n",
    " if (code_show){\n",
    " $('div.jp-CodeCell > div.jp-Cell-inputWrapper').hide();\n",
    " } else {\n",
    "$('div.jp-CodeCell > div.jp-Cell-inputWrapper').show();\n",
    " }\n",
    " code_show = !code_show\n",
    "} \n",
    "$( document ).ready(code_toggle);\n",
    "</script>\n",
    "<form action=\"javascript:code_toggle()\"><input type=\"submit\"\n",
    "    value=\"Click here to toggle on/off the raw code.\"></form>\n",
    "''')"
   ]
  },
  {
   "cell_type": "markdown",
   "id": "daa54714-c273-4fee-9a9b-4f65acfb9b4e",
   "metadata": {},
   "source": [
    "<h1 style=\"text-align:center;\">Airline Booking Data Pipeline and Analysis\n",
    " </h1>\n",
    "<hr>\n",
    "\n",
    "<a name=\"top\"></a>\n",
    "#### Table of Contents:\n",
    "\n",
    "[ref0]: #dat_prep\n",
    "- [Data Preprocessing][ref0]\n",
    "\n",
    "[ref1]: #first\n",
    "- [Data Exploration][ref1]\n",
    "\n",
    "[ref2]: #second\n",
    "- [Entity Relationship Diagram (ERD)][ref2]\n",
    "\n",
    "[ref3]: #third\n",
    "- [Creating rules with regex][ref3]\n",
    "\n",
    "[ref4]: #fourth\n",
    "- [Converting Different Type of Data to String][ref4]\n",
    "   \n",
    "[ref5]: #fifth\n",
    "- [Create random synthetic data for flights and bookings table][ref5]\n",
    "   \n",
    "[ref6]: #sixth\n",
    "- [Ingest to an sqlite3 database][ref6]\n",
    "   \n",
    "\n",
    "   \n",
    "\n",
    "\n",
    "***"
   ]
  },
  {
   "cell_type": "markdown",
   "id": "1a62ee65-3ba2-43cf-a914-aefd243a94ce",
   "metadata": {},
   "source": [
    "<a name=\"dat_prep\"></a>\n",
    "# Data Preprocessing\n",
    "This section shows the preparation of the dataset before using for exploration and analysis\n",
    "***\n"
   ]
  },
  {
   "cell_type": "code",
   "execution_count": 9,
   "id": "850ab96c-9567-4f52-b100-5c9a0ace646a",
   "metadata": {},
   "outputs": [],
   "source": [
    "#!pip install faker"
   ]
  },
  {
   "cell_type": "code",
   "execution_count": 10,
   "id": "7a0721fd-df65-443d-8d55-c4f6a5722b4d",
   "metadata": {},
   "outputs": [],
   "source": [
    "df = pd.read_csv('customer_booking.csv', encoding='latin1')"
   ]
  },
  {
   "cell_type": "code",
   "execution_count": 11,
   "id": "dbdab568-b503-4c4a-a60d-f7f47c386851",
   "metadata": {},
   "outputs": [],
   "source": [
    "Faker.seed(163)\n",
    "fake = Faker()"
   ]
  },
  {
   "cell_type": "code",
   "execution_count": 12,
   "id": "23a95635-5ca4-4f25-a062-cf40fe2b09dc",
   "metadata": {},
   "outputs": [
    {
     "data": {
      "text/html": [
       "<div>\n",
       "<style scoped>\n",
       "    .dataframe tbody tr th:only-of-type {\n",
       "        vertical-align: middle;\n",
       "    }\n",
       "\n",
       "    .dataframe tbody tr th {\n",
       "        vertical-align: top;\n",
       "    }\n",
       "\n",
       "    .dataframe thead th {\n",
       "        text-align: right;\n",
       "    }\n",
       "</style>\n",
       "<table border=\"1\" class=\"dataframe\">\n",
       "  <thead>\n",
       "    <tr style=\"text-align: right;\">\n",
       "      <th></th>\n",
       "      <th>num_passengers</th>\n",
       "      <th>sales_channel</th>\n",
       "      <th>trip_type</th>\n",
       "      <th>purchase_lead</th>\n",
       "      <th>length_of_stay</th>\n",
       "      <th>flight_hour</th>\n",
       "      <th>flight_day</th>\n",
       "      <th>route</th>\n",
       "      <th>booking_origin</th>\n",
       "      <th>wants_extra_baggage</th>\n",
       "      <th>wants_preferred_seat</th>\n",
       "      <th>wants_in_flight_meals</th>\n",
       "      <th>flight_duration</th>\n",
       "      <th>booking_complete</th>\n",
       "    </tr>\n",
       "  </thead>\n",
       "  <tbody>\n",
       "    <tr>\n",
       "      <th>0</th>\n",
       "      <td>2</td>\n",
       "      <td>Internet</td>\n",
       "      <td>RoundTrip</td>\n",
       "      <td>262</td>\n",
       "      <td>19</td>\n",
       "      <td>7</td>\n",
       "      <td>Sat</td>\n",
       "      <td>AKLDEL</td>\n",
       "      <td>New Zealand</td>\n",
       "      <td>1</td>\n",
       "      <td>0</td>\n",
       "      <td>0</td>\n",
       "      <td>5.52</td>\n",
       "      <td>0</td>\n",
       "    </tr>\n",
       "    <tr>\n",
       "      <th>1</th>\n",
       "      <td>1</td>\n",
       "      <td>Internet</td>\n",
       "      <td>RoundTrip</td>\n",
       "      <td>112</td>\n",
       "      <td>20</td>\n",
       "      <td>3</td>\n",
       "      <td>Sat</td>\n",
       "      <td>AKLDEL</td>\n",
       "      <td>New Zealand</td>\n",
       "      <td>0</td>\n",
       "      <td>0</td>\n",
       "      <td>0</td>\n",
       "      <td>5.52</td>\n",
       "      <td>0</td>\n",
       "    </tr>\n",
       "    <tr>\n",
       "      <th>2</th>\n",
       "      <td>2</td>\n",
       "      <td>Internet</td>\n",
       "      <td>RoundTrip</td>\n",
       "      <td>243</td>\n",
       "      <td>22</td>\n",
       "      <td>17</td>\n",
       "      <td>Wed</td>\n",
       "      <td>AKLDEL</td>\n",
       "      <td>India</td>\n",
       "      <td>1</td>\n",
       "      <td>1</td>\n",
       "      <td>0</td>\n",
       "      <td>5.52</td>\n",
       "      <td>0</td>\n",
       "    </tr>\n",
       "    <tr>\n",
       "      <th>3</th>\n",
       "      <td>1</td>\n",
       "      <td>Internet</td>\n",
       "      <td>RoundTrip</td>\n",
       "      <td>96</td>\n",
       "      <td>31</td>\n",
       "      <td>4</td>\n",
       "      <td>Sat</td>\n",
       "      <td>AKLDEL</td>\n",
       "      <td>New Zealand</td>\n",
       "      <td>0</td>\n",
       "      <td>0</td>\n",
       "      <td>1</td>\n",
       "      <td>5.52</td>\n",
       "      <td>0</td>\n",
       "    </tr>\n",
       "    <tr>\n",
       "      <th>4</th>\n",
       "      <td>2</td>\n",
       "      <td>Internet</td>\n",
       "      <td>RoundTrip</td>\n",
       "      <td>68</td>\n",
       "      <td>22</td>\n",
       "      <td>15</td>\n",
       "      <td>Wed</td>\n",
       "      <td>AKLDEL</td>\n",
       "      <td>India</td>\n",
       "      <td>1</td>\n",
       "      <td>0</td>\n",
       "      <td>1</td>\n",
       "      <td>5.52</td>\n",
       "      <td>0</td>\n",
       "    </tr>\n",
       "  </tbody>\n",
       "</table>\n",
       "</div>"
      ],
      "text/plain": [
       "   num_passengers sales_channel  trip_type  purchase_lead  length_of_stay  \\\n",
       "0               2      Internet  RoundTrip            262              19   \n",
       "1               1      Internet  RoundTrip            112              20   \n",
       "2               2      Internet  RoundTrip            243              22   \n",
       "3               1      Internet  RoundTrip             96              31   \n",
       "4               2      Internet  RoundTrip             68              22   \n",
       "\n",
       "   flight_hour flight_day   route booking_origin  wants_extra_baggage  \\\n",
       "0            7        Sat  AKLDEL    New Zealand                    1   \n",
       "1            3        Sat  AKLDEL    New Zealand                    0   \n",
       "2           17        Wed  AKLDEL          India                    1   \n",
       "3            4        Sat  AKLDEL    New Zealand                    0   \n",
       "4           15        Wed  AKLDEL          India                    1   \n",
       "\n",
       "   wants_preferred_seat  wants_in_flight_meals  flight_duration  \\\n",
       "0                     0                      0             5.52   \n",
       "1                     0                      0             5.52   \n",
       "2                     1                      0             5.52   \n",
       "3                     0                      1             5.52   \n",
       "4                     0                      1             5.52   \n",
       "\n",
       "   booking_complete  \n",
       "0                 0  \n",
       "1                 0  \n",
       "2                 0  \n",
       "3                 0  \n",
       "4                 0  "
      ]
     },
     "execution_count": 12,
     "metadata": {},
     "output_type": "execute_result"
    }
   ],
   "source": [
    "df.head()"
   ]
  },
  {
   "cell_type": "code",
   "execution_count": 13,
   "id": "f9184f0a-8411-42a3-8be1-db53630440fc",
   "metadata": {},
   "outputs": [
    {
     "data": {
      "text/plain": [
       "num_passengers           0\n",
       "sales_channel            0\n",
       "trip_type                0\n",
       "purchase_lead            0\n",
       "length_of_stay           0\n",
       "flight_hour              0\n",
       "flight_day               0\n",
       "route                    0\n",
       "booking_origin           0\n",
       "wants_extra_baggage      0\n",
       "wants_preferred_seat     0\n",
       "wants_in_flight_meals    0\n",
       "flight_duration          0\n",
       "booking_complete         0\n",
       "dtype: int64"
      ]
     },
     "execution_count": 13,
     "metadata": {},
     "output_type": "execute_result"
    }
   ],
   "source": [
    "df.isnull().sum()"
   ]
  },
  {
   "cell_type": "code",
   "execution_count": 14,
   "id": "12d7fa8c-ac6a-46a1-8f44-6d18d8a2ce3c",
   "metadata": {},
   "outputs": [
    {
     "data": {
      "text/plain": [
       "<bound method NDFrame._add_numeric_operations.<locals>.sum of 0        False\n",
       "1        False\n",
       "2        False\n",
       "3        False\n",
       "4        False\n",
       "         ...  \n",
       "49995    False\n",
       "49996    False\n",
       "49997    False\n",
       "49998    False\n",
       "49999    False\n",
       "Length: 50000, dtype: bool>"
      ]
     },
     "execution_count": 14,
     "metadata": {},
     "output_type": "execute_result"
    }
   ],
   "source": [
    "df.duplicated().sum"
   ]
  },
  {
   "cell_type": "markdown",
   "id": "5ade57f5-848a-4117-b322-fa0897ca7d9d",
   "metadata": {},
   "source": [
    "### Data Dictionary"
   ]
  },
  {
   "cell_type": "markdown",
   "id": "0deae6a2-b72b-4bcf-b566-6c08431e8e10",
   "metadata": {},
   "source": [
    "\n",
    "\n",
    "| Variable              | Description                                                | Data Type          | Example Value  |\n",
    "|-----------------------|------------------------------------------------------------|--------------------|----------------|\n",
    "| num_passengers        | Number of passengers per booking                           | Integer            | 2              |\n",
    "| sales_channel         | Sales channel booking was made on                          | String        | Internet       |\n",
    "| trip_type             | Trip Type (Round Trip, One Way, Circle Trip)               | String        | RoundTrip      |\n",
    "| purchase_lead         | The number of days between the booking date and travel date| Integer            | 262            |\n",
    "| length_of_stay        | The number of days spent at destination                    | Integer            | 19             |\n",
    "| flight_hour           | Hour of flight departure                                   | Integer            | 7              |\n",
    "| flight_day            | Day of week of flight departure                            | String        | Sat            |\n",
    "| route                 | Origin to destination flight route                         | String        | AKLDEL         |\n",
    "| booking_origin        | Country from where booking was made                        | String        | New Zealand    |\n",
    "| wants_extra_baggage   | If the customer wanted extra baggage in the booking        | Boolean            | 1              |\n",
    "| wants_preferred_seat  | If the customer wanted a preferred seat in the booking     | Boolean            | 0              |\n",
    "| wants_in_flight_meals | If the customer wanted in-flight meals in the booking      | Boolean            | 0              |\n",
    "| flight_duration       | Total duration of flight (in hours)                        | Float    | 5.52           |\n",
    "| booking_complete      | Flag indicating if the customer completed the booking      | Boolean            | 0              |\n",
    "\n"
   ]
  },
  {
   "cell_type": "markdown",
   "id": "9f5f1efa",
   "metadata": {},
   "source": [
    "[ref]: #top\n",
    "[Back to Table of Contents][ref]"
   ]
  },
  {
   "cell_type": "markdown",
   "id": "8b12c6e1-8bf5-4798-8394-806df4faadcb",
   "metadata": {},
   "source": [
    "<a name=\"first\"></a>\n",
    "# Data Exploration\n",
    "This section graphs the variable in the dataset\n",
    "***\n"
   ]
  },
  {
   "cell_type": "markdown",
   "id": "759985d7-8161-4ad2-8d74-365782004ff0",
   "metadata": {},
   "source": [
    "### Number of Passengers per Booking"
   ]
  },
  {
   "cell_type": "code",
   "execution_count": 15,
   "id": "876ec51b-6490-4931-a40e-d87fed796966",
   "metadata": {},
   "outputs": [
    {
     "data": {
      "image/png": "[encoded data removed]",
      "text/plain": [
       "<Figure size 800x600 with 1 Axes>"
      ]
     },
     "metadata": {},
     "output_type": "display_data"
    }
   ],
   "source": [
    "plt.figure(figsize=(8, 6))\n",
    "df['num_passengers'].value_counts().sort_index().plot(kind='bar', color='lightcoral')\n",
    "plt.title('Number of Passengers per Booking')\n",
    "plt.xlabel('Number of Passengers')\n",
    "plt.ylabel('Frequency')\n",
    "plt.xticks(rotation=0)\n",
    "plt.grid(axis='y', linestyle='--', alpha=0.7)\n",
    "plt.show()"
   ]
  },
  {
   "cell_type": "markdown",
   "id": "84f5b057-814b-4e5f-af0b-a98234ab227d",
   "metadata": {},
   "source": [
    "### Flight Hour Distribution\n"
   ]
  },
  {
   "cell_type": "code",
   "execution_count": 16,
   "id": "23961007-baf1-46f0-aca9-f9ec51c3cdc6",
   "metadata": {},
   "outputs": [
    {
     "data": {
      "image/png": "[encoded data removed]",
      "text/plain": [
       "<Figure size 800x600 with 1 Axes>"
      ]
     },
     "metadata": {},
     "output_type": "display_data"
    }
   ],
   "source": [
    "plt.figure(figsize=(8, 6))\n",
    "df['flight_hour'].value_counts().sort_index().plot(kind='bar', color='lightcoral')\n",
    "plt.title('Flight Hour')\n",
    "plt.xlabel('Hour')\n",
    "plt.ylabel('Frequency')\n",
    "plt.grid(axis='y', linestyle='--', alpha=0.7)\n",
    "plt.show()"
   ]
  },
  {
   "cell_type": "markdown",
   "id": "06ae04fb-40f7-4c38-8f83-1d746f1656a8",
   "metadata": {},
   "source": [
    "### Wants Extra Baggage Distribution"
   ]
  },
  {
   "cell_type": "code",
   "execution_count": 17,
   "id": "03847a4e-0529-4e6c-a16a-07af3bf04efb",
   "metadata": {},
   "outputs": [
    {
     "data": {
      "image/png": "[encoded data removed]",
      "text/plain": [
       "<Figure size 800x600 with 1 Axes>"
      ]
     },
     "metadata": {},
     "output_type": "display_data"
    }
   ],
   "source": [
    "plt.figure(figsize=(8, 6))\n",
    "df['wants_extra_baggage'].value_counts().sort_index().plot(kind='bar', color='lightcoral')\n",
    "plt.title('Wants Extra Baggage')\n",
    "plt.xlabel('Extra Baggage')\n",
    "plt.ylabel('Frequency')\n",
    "plt.xticks([0, 1], ['No', 'Yes'])\n",
    "plt.grid(axis='y', linestyle='--', alpha=0.7)\n",
    "plt.show()"
   ]
  },
  {
   "cell_type": "markdown",
   "id": "906a678d-eeff-4dcc-893b-97ef5ecf2d26",
   "metadata": {},
   "source": [
    "### Sales Channel Distribution"
   ]
  },
  {
   "cell_type": "code",
   "execution_count": 18,
   "id": "bbcd7ad1-b887-4137-b836-df9bd3d9b55e",
   "metadata": {},
   "outputs": [
    {
     "data": {
      "image/png": "[encoded data removed]",
      "text/plain": [
       "<Figure size 800x600 with 1 Axes>"
      ]
     },
     "metadata": {},
     "output_type": "display_data"
    }
   ],
   "source": [
    "plt.figure(figsize=(8, 6))\n",
    "df['sales_channel'].value_counts().plot(kind='bar', color='lightcoral')\n",
    "plt.title('Sales Channel')\n",
    "plt.xlabel('Sales Channel')\n",
    "plt.ylabel('Frequency')\n",
    "plt.grid(axis='y', linestyle='--', alpha=0.7)\n",
    "plt.show()"
   ]
  },
  {
   "cell_type": "markdown",
   "id": "47f236ab-d8aa-482a-b999-935cbde4e310",
   "metadata": {},
   "source": [
    "### Trip Type Distribution"
   ]
  },
  {
   "cell_type": "code",
   "execution_count": 19,
   "id": "cc7203f9-74d4-4769-8a4d-350167e07473",
   "metadata": {},
   "outputs": [
    {
     "data": {
      "image/png": "[encoded data removed]",
      "text/plain": [
       "<Figure size 800x600 with 1 Axes>"
      ]
     },
     "metadata": {},
     "output_type": "display_data"
    }
   ],
   "source": [
    "plt.figure(figsize=(8, 6))\n",
    "df['trip_type'].value_counts().plot(kind='bar', color='lightcoral')\n",
    "plt.title('Trip Type')\n",
    "plt.xlabel('Trip Type')\n",
    "plt.ylabel('Frequency')\n",
    "plt.grid(axis='y', linestyle='--', alpha=0.7)\n",
    "plt.show()"
   ]
  },
  {
   "cell_type": "markdown",
   "id": "2bf14b62-5105-4a56-a137-aab12d5fcbfd",
   "metadata": {},
   "source": [
    "### Flight Day Distribution"
   ]
  },
  {
   "cell_type": "code",
   "execution_count": 20,
   "id": "b8e2f130-aa84-4218-b452-557ecedc9d0d",
   "metadata": {},
   "outputs": [
    {
     "data": {
      "image/png": "[encoded data removed]",
      "text/plain": [
       "<Figure size 800x600 with 1 Axes>"
      ]
     },
     "metadata": {},
     "output_type": "display_data"
    }
   ],
   "source": [
    "flight_day_counts = df['flight_day'].value_counts()\n",
    "\n",
    "plt.figure(figsize=(8, 6))\n",
    "plt.pie(flight_day_counts, \n",
    "        labels=flight_day_counts.index, \n",
    "        autopct='%1.1f%%',\n",
    "        startangle=140, \n",
    "        colors=['skyblue', 'lightgreen', 'lightcoral',\n",
    "                'gold', 'lightsalmon', 'lightpink', 'lightblue'])\n",
    "\n",
    "plt.title('Flight Day Distribution')\n",
    "plt.axis('equal')  \n",
    "plt.show()"
   ]
  },
  {
   "cell_type": "markdown",
   "id": "b0b4f073",
   "metadata": {},
   "source": [
    "[ref]: #top\n",
    "[Back to Table of Contents][ref]"
   ]
  },
  {
   "cell_type": "markdown",
   "id": "6b3835a6-e66b-4ca1-866a-b15fe0f03c1a",
   "metadata": {},
   "source": [
    "<a name=\"second\"></a>\n",
    "# Entity Relationship Diagram (ERD)\n",
    "This section shows the tables that was created for this project\n",
    "***\n"
   ]
  },
  {
   "cell_type": "markdown",
   "id": "401b288a-2281-49ca-a337-e9cdb07f78e4",
   "metadata": {},
   "source": [
    " **Booking to Flight**: This is a ***many-to-one relationship*** meaning multiple bookings can correspond to the same flight. "
   ]
  },
  {
   "attachments": {
    "edd140fb-dc60-4410-8a7c-a01de3324489.png": {
     "image/png": "[encoded data removed]"
    }
   },
   "cell_type": "markdown",
   "id": "4846dc87-4dbb-4afb-b323-82573572473f",
   "metadata": {},
   "source": [
    "![image.png](attachment:edd140fb-dc60-4410-8a7c-a01de3324489.png)"
   ]
  },
  {
   "cell_type": "markdown",
   "id": "a3e44b50",
   "metadata": {},
   "source": [
    "[ref]: #top\n",
    "[Back to Table of Contents][ref]"
   ]
  },
  {
   "cell_type": "markdown",
   "id": "1a6cdf51-be2c-4f4b-b9f4-733f72b9eae0",
   "metadata": {},
   "source": [
    "<a name=\"Third\"></a>\n",
    "#  Creating rules with regex\n",
    "This section shows how we created the regex rules for the variables\n",
    "***\n",
    "\n"
   ]
  },
  {
   "cell_type": "code",
   "execution_count": 21,
   "id": "9bb01dc8-b909-4adb-ae05-f3736a03c239",
   "metadata": {},
   "outputs": [],
   "source": [
    "regex_patterns = {\n",
    "    \"booking_id\": r\"^(0|[1-9]\\d*)$\",\n",
    "    \"flight_id\": r\"^(0|[1-9]\\d*)$\",\n",
    "    \"num_passengers\": r\"^[1-9]$\",\n",
    "    \"purchase_lead\": r\"^[1-9]$\",\n",
    "    \"length_of_stay\": r\"^[1-9]$\",\n",
    "    \"sales_channel\": r\"^(INTERNET|MOBILE)$\",\n",
    "    \"trip_type\": r\"^(OneWay|RoundTrip|CircleTrip)$\",\n",
    "    \"flight_hour\": r\"^([0-9]|1[0-9]|2[0-3])$\",\n",
    "    \"flight_day\": r\"^(Mon|Tue|Wed|Thu|Fri|Sat|Sun)$\",\n",
    "    \"route\": r\"^[A-Z]{6}$\",\n",
    "    \"booking_origin\": r\"^[A-Z]{2}$\",\n",
    "    \"wants_extra_baggage\": r\"^[01]$\",\n",
    "    \"wants_preferred_seat\": r\"^[01]$\",\n",
    "    \"wants_in_flight_meals\": r\"^[01]$\",\n",
    "    \"booking_complete\": r\"^[01]$\",\n",
    "    \"flight_duration\":r\"^\\d+(\\.\\d{1,2})?$\"\n",
    "}\n"
   ]
  },
  {
   "cell_type": "code",
   "execution_count": 22,
   "id": "ae66ba46-d480-456e-ac0c-a8798df0cc55",
   "metadata": {},
   "outputs": [
    {
     "data": {
      "text/plain": [
       "{'booking_id': True,\n",
       " 'flight_id': True,\n",
       " 'num_passengers': True,\n",
       " 'purchase_lead': True,\n",
       " 'length_of_stay': True,\n",
       " 'sales_channel': True,\n",
       " 'trip_type': True,\n",
       " 'flight_hour': True,\n",
       " 'flight_day': True,\n",
       " 'route': True,\n",
       " 'booking_origin': True,\n",
       " 'wants_extra_baggage': True,\n",
       " 'wants_preferred_seat': True,\n",
       " 'wants_in_flight_meals': True,\n",
       " 'booking_complete': True,\n",
       " 'flight_duration': True}"
      ]
     },
     "execution_count": 22,
     "metadata": {},
     "output_type": "execute_result"
    }
   ],
   "source": [
    "example_data = {\n",
    "    \"booking_id\": \"123456\",\n",
    "    \"flight_id\": \"0\",\n",
    "    \"num_passengers\": \"3\",\n",
    "    \"purchase_lead\": \"5\",\n",
    "    \"length_of_stay\": \"7\",\n",
    "    \"sales_channel\": \"MOBILE\",\n",
    "    \"trip_type\": \"RoundTrip\",\n",
    "    \"flight_hour\": \"21\",\n",
    "    \"flight_day\": \"Fri\",\n",
    "    \"route\": \"JFKLAX\",\n",
    "    \"booking_origin\": \"US\",\n",
    "    \"wants_extra_baggage\": \"1\",\n",
    "    \"wants_preferred_seat\": \"0\",\n",
    "    \"wants_in_flight_meals\": \"1\",\n",
    "    \"booking_complete\": \"1\",\n",
    "    \"flight_duration\":\"5.52\"\n",
    "}\n",
    "\n",
    "\n",
    "def validate_data(data, patterns):\n",
    "    validation_results = {}\n",
    "    for key, value in data.items():\n",
    "        if re.match(patterns[key], value):\n",
    "            validation_results[key] = True\n",
    "        else:\n",
    "            validation_results[key] = False\n",
    "    return validation_results\n",
    "\n",
    "\n",
    "validate_data(example_data, regex_patterns)"
   ]
  },
  {
   "cell_type": "markdown",
   "id": "e138ad3f",
   "metadata": {},
   "source": [
    "[ref]: #top\n",
    "[Back to Table of Contents][ref]"
   ]
  },
  {
   "cell_type": "markdown",
   "id": "e60c9350-0185-4110-a14f-b782b9f9ad89",
   "metadata": {},
   "source": [
    "<a name=\"fourth\"></a>\n",
    "# Converting Different Type of Data to String\n",
    "This section shows the convertion of each data type into string and then the application of regex rules.\n",
    "***"
   ]
  },
  {
   "cell_type": "code",
   "execution_count": 23,
   "id": "7aa6c38c-b543-42b7-901f-f48de08988c7",
   "metadata": {},
   "outputs": [
    {
     "data": {
      "text/plain": [
       "{'booking_id': True,\n",
       " 'flight_id': True,\n",
       " 'num_passengers': True,\n",
       " 'purchase_lead': True,\n",
       " 'length_of_stay': True,\n",
       " 'sales_channel': True,\n",
       " 'trip_type': True,\n",
       " 'flight_hour': True,\n",
       " 'flight_day': True,\n",
       " 'route': True,\n",
       " 'booking_origin': True,\n",
       " 'wants_extra_baggage': True,\n",
       " 'wants_preferred_seat': True,\n",
       " 'wants_in_flight_meals': True,\n",
       " 'booking_complete': True,\n",
       " 'flight_duration': True}"
      ]
     },
     "execution_count": 23,
     "metadata": {},
     "output_type": "execute_result"
    }
   ],
   "source": [
    "def validate_data_with_conversion(data, patterns):\n",
    "    validation_results = {}\n",
    "    for key, value in data.items():\n",
    "        value_str = str(value)  # Convert value to string\n",
    "        if re.match(patterns[key], value_str):\n",
    "            validation_results[key] = True\n",
    "        else:\n",
    "            validation_results[key] = False\n",
    "    return validation_results\n",
    "\n",
    "# Example data with various types (integer, float, and string)\n",
    "example_data_mixed_types = {\n",
    "    \"booking_id\": 123456,  # Integer\n",
    "    \"flight_id\": \"0\",  # String\n",
    "    \"num_passengers\": 3,  # Integer\n",
    "    \"purchase_lead\": 5,  # Integer\n",
    "    \"length_of_stay\": 7,  # Integer\n",
    "    \"sales_channel\": \"MOBILE\",  # String\n",
    "    \"trip_type\": \"RoundTrip\",  # String\n",
    "    \"flight_hour\": 21,  # Integer\n",
    "    \"flight_day\": \"Fri\",  # String\n",
    "    \"route\": \"JFKLAX\",  # String\n",
    "    \"booking_origin\": \"US\",  # String\n",
    "    \"wants_extra_baggage\": 1,  # Integer\n",
    "    \"wants_preferred_seat\": 0,  # Integer\n",
    "    \"wants_in_flight_meals\": 1,  # Integer\n",
    "    \"booking_complete\": 1,  # Integer\n",
    "    \"flight_duration\": 5.52 #String\n",
    "}\n",
    "\n",
    "validate_data_with_conversion(example_data_mixed_types, regex_patterns)\n"
   ]
  },
  {
   "cell_type": "markdown",
   "id": "aa9317fb",
   "metadata": {},
   "source": [
    "[ref]: #top\n",
    "[Back to Table of Contents][ref]"
   ]
  },
  {
   "cell_type": "markdown",
   "id": "744a07b5-492d-4c78-b398-642e67372506",
   "metadata": {},
   "source": [
    "<a name=\"fifth\"></a>\n",
    "# Create random synthetic data for flights and bookings table\n",
    "This section shows the created random synthetic data for the flight and booking table\n",
    "***"
   ]
  },
  {
   "cell_type": "markdown",
   "id": "6a244e71-36ac-44a0-8363-e1ec65814c64",
   "metadata": {},
   "source": [
    "### Flight"
   ]
  },
  {
   "cell_type": "code",
   "execution_count": 24,
   "id": "f94f4c70-4fef-41c0-b560-50252bd57b7f",
   "metadata": {},
   "outputs": [
    {
     "data": {
      "text/html": [
       "<div>\n",
       "<style scoped>\n",
       "    .dataframe tbody tr th:only-of-type {\n",
       "        vertical-align: middle;\n",
       "    }\n",
       "\n",
       "    .dataframe tbody tr th {\n",
       "        vertical-align: top;\n",
       "    }\n",
       "\n",
       "    .dataframe thead th {\n",
       "        text-align: right;\n",
       "    }\n",
       "</style>\n",
       "<table border=\"1\" class=\"dataframe\">\n",
       "  <thead>\n",
       "    <tr style=\"text-align: right;\">\n",
       "      <th></th>\n",
       "      <th>flight_id</th>\n",
       "      <th>flight_hour</th>\n",
       "      <th>flight_day</th>\n",
       "      <th>route</th>\n",
       "      <th>flight_duration</th>\n",
       "    </tr>\n",
       "  </thead>\n",
       "  <tbody>\n",
       "    <tr>\n",
       "      <th>0</th>\n",
       "      <td>e8659de2-7504-4ee2-9f0a-fd608a9a8bc2</td>\n",
       "      <td>2</td>\n",
       "      <td>Wed</td>\n",
       "      <td>eAr-UWO</td>\n",
       "      <td>6:32</td>\n",
       "    </tr>\n",
       "    <tr>\n",
       "      <th>1</th>\n",
       "      <td>dd26ccd7-7e22-4912-ac43-201f9595f31b</td>\n",
       "      <td>2</td>\n",
       "      <td>Thu</td>\n",
       "      <td>JdI-wam</td>\n",
       "      <td>9:19</td>\n",
       "    </tr>\n",
       "    <tr>\n",
       "      <th>2</th>\n",
       "      <td>377e6f3a-48e7-4ecb-8a23-1d4ae5abe120</td>\n",
       "      <td>0</td>\n",
       "      <td>Wed</td>\n",
       "      <td>dcy-LRb</td>\n",
       "      <td>12:10</td>\n",
       "    </tr>\n",
       "    <tr>\n",
       "      <th>3</th>\n",
       "      <td>d4ba1fbc-5d02-4404-b49b-e2265a38427a</td>\n",
       "      <td>9</td>\n",
       "      <td>Sat</td>\n",
       "      <td>GRH-vpg</td>\n",
       "      <td>1:10</td>\n",
       "    </tr>\n",
       "    <tr>\n",
       "      <th>4</th>\n",
       "      <td>9c115b25-2d64-4627-a422-93f423326b71</td>\n",
       "      <td>13</td>\n",
       "      <td>Wed</td>\n",
       "      <td>khr-ZZC</td>\n",
       "      <td>9:03</td>\n",
       "    </tr>\n",
       "  </tbody>\n",
       "</table>\n",
       "</div>"
      ],
      "text/plain": [
       "                              flight_id  flight_hour flight_day    route  \\\n",
       "0  e8659de2-7504-4ee2-9f0a-fd608a9a8bc2            2        Wed  eAr-UWO   \n",
       "1  dd26ccd7-7e22-4912-ac43-201f9595f31b            2        Thu  JdI-wam   \n",
       "2  377e6f3a-48e7-4ecb-8a23-1d4ae5abe120            0        Wed  dcy-LRb   \n",
       "3  d4ba1fbc-5d02-4404-b49b-e2265a38427a            9        Sat  GRH-vpg   \n",
       "4  9c115b25-2d64-4627-a422-93f423326b71           13        Wed  khr-ZZC   \n",
       "\n",
       "  flight_duration  \n",
       "0            6:32  \n",
       "1            9:19  \n",
       "2           12:10  \n",
       "3            1:10  \n",
       "4            9:03  "
      ]
     },
     "execution_count": 24,
     "metadata": {},
     "output_type": "execute_result"
    }
   ],
   "source": [
    "flight_days = ['Mon', 'Tue', 'Wed', 'Thu', 'Fri', 'Sat', 'Sun']\n",
    "\n",
    "def generate_flights_data():\n",
    "    flights_data = {\n",
    "        'flight_id': [fake.uuid4() for _ in range(100)],\n",
    "        'flight_hour': [fake.random_int(min=0, max=23) for _ in range(100)],\n",
    "        'flight_day': [fake.random_element(elements=flight_days) for _ in range(100)],\n",
    "        'route': [fake.bothify(text='???-???') for _ in range(100)],  # Random route in AAA-BBB format\n",
    "        'flight_duration': [f\"{fake.random_int(min=1, max=12)}:{fake.random_int(min=0, max=59):02d}\" for _ in range(100)]\n",
    "    }\n",
    "    return pd.DataFrame(flights_data)\n",
    "\n",
    "flights = generate_flights_data()\n",
    "flights.head()"
   ]
  },
  {
   "cell_type": "markdown",
   "id": "260a376b-c934-47d4-afcb-05299b57e81c",
   "metadata": {},
   "source": [
    "### Booking"
   ]
  },
  {
   "cell_type": "code",
   "execution_count": 25,
   "id": "e8ec5f3a-b79e-4df5-827f-80d1ffe82dd9",
   "metadata": {},
   "outputs": [
    {
     "data": {
      "text/html": [
       "<div>\n",
       "<style scoped>\n",
       "    .dataframe tbody tr th:only-of-type {\n",
       "        vertical-align: middle;\n",
       "    }\n",
       "\n",
       "    .dataframe tbody tr th {\n",
       "        vertical-align: top;\n",
       "    }\n",
       "\n",
       "    .dataframe thead th {\n",
       "        text-align: right;\n",
       "    }\n",
       "</style>\n",
       "<table border=\"1\" class=\"dataframe\">\n",
       "  <thead>\n",
       "    <tr style=\"text-align: right;\">\n",
       "      <th></th>\n",
       "      <th>booking_id</th>\n",
       "      <th>num_passengers</th>\n",
       "      <th>sales_channel</th>\n",
       "      <th>trip_type</th>\n",
       "      <th>purchase_lead</th>\n",
       "      <th>length_of_stay</th>\n",
       "      <th>flight_id</th>\n",
       "      <th>booking_origin</th>\n",
       "      <th>wants_extra_baggage</th>\n",
       "      <th>wants_preferred_seat</th>\n",
       "      <th>wants_in_flight_meals</th>\n",
       "      <th>booking_complete</th>\n",
       "    </tr>\n",
       "  </thead>\n",
       "  <tbody>\n",
       "    <tr>\n",
       "      <th>0</th>\n",
       "      <td>c4bbed16-3507-497a-9893-981a43e6351f</td>\n",
       "      <td>9</td>\n",
       "      <td>MOBILE</td>\n",
       "      <td>RoundTrip</td>\n",
       "      <td>16</td>\n",
       "      <td>15</td>\n",
       "      <td>bc282048-8110-4e2c-b073-084cc52ce3f7</td>\n",
       "      <td>NR</td>\n",
       "      <td>0</td>\n",
       "      <td>0</td>\n",
       "      <td>0</td>\n",
       "      <td>1</td>\n",
       "    </tr>\n",
       "    <tr>\n",
       "      <th>1</th>\n",
       "      <td>46cb73bd-b0b4-4aa5-a67c-2e1891048594</td>\n",
       "      <td>5</td>\n",
       "      <td>MOBILE</td>\n",
       "      <td>OneWay</td>\n",
       "      <td>3</td>\n",
       "      <td>8</td>\n",
       "      <td>77f2528f-d51b-4548-9f86-14b2bd35ceb5</td>\n",
       "      <td>GM</td>\n",
       "      <td>1</td>\n",
       "      <td>1</td>\n",
       "      <td>1</td>\n",
       "      <td>1</td>\n",
       "    </tr>\n",
       "    <tr>\n",
       "      <th>2</th>\n",
       "      <td>4fb1df7e-0c15-4656-a2da-ccc81e371d64</td>\n",
       "      <td>6</td>\n",
       "      <td>INTERNET</td>\n",
       "      <td>CircleTrip</td>\n",
       "      <td>1</td>\n",
       "      <td>6</td>\n",
       "      <td>95d5e5a6-eecb-4c95-a2ad-8aaf460474ec</td>\n",
       "      <td>SA</td>\n",
       "      <td>0</td>\n",
       "      <td>0</td>\n",
       "      <td>0</td>\n",
       "      <td>0</td>\n",
       "    </tr>\n",
       "    <tr>\n",
       "      <th>3</th>\n",
       "      <td>9af74d54-86de-43c8-be37-a0bb3de28dbe</td>\n",
       "      <td>5</td>\n",
       "      <td>INTERNET</td>\n",
       "      <td>RoundTrip</td>\n",
       "      <td>23</td>\n",
       "      <td>5</td>\n",
       "      <td>d1cfab54-d82e-4779-b1b6-9e4467217923</td>\n",
       "      <td>KW</td>\n",
       "      <td>0</td>\n",
       "      <td>0</td>\n",
       "      <td>1</td>\n",
       "      <td>0</td>\n",
       "    </tr>\n",
       "    <tr>\n",
       "      <th>4</th>\n",
       "      <td>6717fce5-0464-4304-9136-206eb7fd1da9</td>\n",
       "      <td>9</td>\n",
       "      <td>INTERNET</td>\n",
       "      <td>RoundTrip</td>\n",
       "      <td>9</td>\n",
       "      <td>9</td>\n",
       "      <td>8a8f42e7-aca9-4c88-ba7c-6420b162ddb2</td>\n",
       "      <td>FM</td>\n",
       "      <td>1</td>\n",
       "      <td>1</td>\n",
       "      <td>1</td>\n",
       "      <td>1</td>\n",
       "    </tr>\n",
       "  </tbody>\n",
       "</table>\n",
       "</div>"
      ],
      "text/plain": [
       "                             booking_id  num_passengers sales_channel  \\\n",
       "0  c4bbed16-3507-497a-9893-981a43e6351f               9        MOBILE   \n",
       "1  46cb73bd-b0b4-4aa5-a67c-2e1891048594               5        MOBILE   \n",
       "2  4fb1df7e-0c15-4656-a2da-ccc81e371d64               6      INTERNET   \n",
       "3  9af74d54-86de-43c8-be37-a0bb3de28dbe               5      INTERNET   \n",
       "4  6717fce5-0464-4304-9136-206eb7fd1da9               9      INTERNET   \n",
       "\n",
       "    trip_type  purchase_lead  length_of_stay  \\\n",
       "0   RoundTrip             16              15   \n",
       "1      OneWay              3               8   \n",
       "2  CircleTrip              1               6   \n",
       "3   RoundTrip             23               5   \n",
       "4   RoundTrip              9               9   \n",
       "\n",
       "                              flight_id booking_origin  wants_extra_baggage  \\\n",
       "0  bc282048-8110-4e2c-b073-084cc52ce3f7             NR                    0   \n",
       "1  77f2528f-d51b-4548-9f86-14b2bd35ceb5             GM                    1   \n",
       "2  95d5e5a6-eecb-4c95-a2ad-8aaf460474ec             SA                    0   \n",
       "3  d1cfab54-d82e-4779-b1b6-9e4467217923             KW                    0   \n",
       "4  8a8f42e7-aca9-4c88-ba7c-6420b162ddb2             FM                    1   \n",
       "\n",
       "   wants_preferred_seat  wants_in_flight_meals  booking_complete  \n",
       "0                     0                      0                 1  \n",
       "1                     1                      1                 1  \n",
       "2                     0                      0                 0  \n",
       "3                     0                      1                 0  \n",
       "4                     1                      1                 1  "
      ]
     },
     "execution_count": 25,
     "metadata": {},
     "output_type": "execute_result"
    }
   ],
   "source": [
    "def generate_bookings_data(flight_ids):\n",
    "    sales_channels = ['INTERNET', 'MOBILE']\n",
    "    trip_types = ['OneWay', 'RoundTrip', 'CircleTrip']\n",
    "    \n",
    "    bookings_data = {\n",
    "        'booking_id': [fake.uuid4() for _ in range(100)],\n",
    "        'num_passengers': [fake.random_int(min=1, max=9) for _ in range(100)],\n",
    "        'sales_channel': [fake.random_element(elements=sales_channels) for _ in range(100)],\n",
    "        'trip_type': [fake.random_element(elements=trip_types) for _ in range(100)],\n",
    "        'purchase_lead': [fake.random_int(min=1, max=30) for _ in range(100)],\n",
    "        'length_of_stay': [fake.random_int(min=1, max=15) for _ in range(100)],\n",
    "        'flight_id': [fake.random_element(elements=flight_ids) for _ in range(100)],\n",
    "        'booking_origin': [fake.country_code() for _ in range(100)],\n",
    "        'wants_extra_baggage': [fake.random_digit() % 2 for _ in range(100)],\n",
    "        'wants_preferred_seat': [fake.random_digit() % 2 for _ in range(100)],\n",
    "        'wants_in_flight_meals': [fake.random_digit() % 2 for _ in range(100)],\n",
    "        'booking_complete': [fake.random_digit() % 2 for _ in range(100)]\n",
    "    }\n",
    "    return pd.DataFrame(bookings_data)\n",
    "\n",
    "flight_ids = flights['flight_id'].tolist()\n",
    "\n",
    "bookings = generate_bookings_data(flight_ids)\n",
    "bookings.head()\n"
   ]
  },
  {
   "cell_type": "code",
   "execution_count": 26,
   "id": "67a8fa7b-28d3-473a-b0ec-70629eafef99",
   "metadata": {},
   "outputs": [
    {
     "name": "stdout",
     "output_type": "stream",
     "text": [
      "                             booking_id  num_passengers sales_channel  \\\n",
      "0  c4bbed16-3507-497a-9893-981a43e6351f               9        MOBILE   \n",
      "1  46cb73bd-b0b4-4aa5-a67c-2e1891048594               5        MOBILE   \n",
      "2  4fb1df7e-0c15-4656-a2da-ccc81e371d64               6      INTERNET   \n",
      "3  9af74d54-86de-43c8-be37-a0bb3de28dbe               5      INTERNET   \n",
      "4  6717fce5-0464-4304-9136-206eb7fd1da9               9      INTERNET   \n",
      "\n",
      "    trip_type  purchase_lead  length_of_stay  \\\n",
      "0   RoundTrip             16              15   \n",
      "1      OneWay              3               8   \n",
      "2  CircleTrip              1               6   \n",
      "3   RoundTrip             23               5   \n",
      "4   RoundTrip              9               9   \n",
      "\n",
      "                              flight_id booking_origin  wants_extra_baggage  \\\n",
      "0  bc282048-8110-4e2c-b073-084cc52ce3f7             NR                    0   \n",
      "1  77f2528f-d51b-4548-9f86-14b2bd35ceb5             GM                    1   \n",
      "2  95d5e5a6-eecb-4c95-a2ad-8aaf460474ec             SA                    0   \n",
      "3  d1cfab54-d82e-4779-b1b6-9e4467217923             KW                    0   \n",
      "4  8a8f42e7-aca9-4c88-ba7c-6420b162ddb2             FM                    1   \n",
      "\n",
      "   wants_preferred_seat  wants_in_flight_meals  booking_complete  \n",
      "0                     0                      0                 1  \n",
      "1                     1                      1                 1  \n",
      "2                     0                      0                 0  \n",
      "3                     0                      1                 0  \n",
      "4                     1                      1                 1  \n",
      "                              flight_id  flight_hour flight_day    route  \\\n",
      "0  e8659de2-7504-4ee2-9f0a-fd608a9a8bc2            2        Wed  eAr-UWO   \n",
      "1  dd26ccd7-7e22-4912-ac43-201f9595f31b            2        Thu  JdI-wam   \n",
      "2  377e6f3a-48e7-4ecb-8a23-1d4ae5abe120            0        Wed  dcy-LRb   \n",
      "3  d4ba1fbc-5d02-4404-b49b-e2265a38427a            9        Sat  GRH-vpg   \n",
      "4  9c115b25-2d64-4627-a422-93f423326b71           13        Wed  khr-ZZC   \n",
      "\n",
      "  flight_duration  \n",
      "0            6:32  \n",
      "1            9:19  \n",
      "2           12:10  \n",
      "3            1:10  \n",
      "4            9:03  \n"
     ]
    }
   ],
   "source": [
    "dataframes = [bookings, flights]\n",
    "\n",
    "for df in dataframes:\n",
    "    print(df.head())"
   ]
  },
  {
   "cell_type": "markdown",
   "id": "e051a3b6",
   "metadata": {},
   "source": [
    "[ref]: #top\n",
    "[Back to Table of Contents][ref]"
   ]
  },
  {
   "cell_type": "markdown",
   "id": "2bb571ed-1586-4fc0-947a-f74270ed99c9",
   "metadata": {},
   "source": [
    "<a name=\"sixth\"></a>\n",
    "# Ingest to an sqlite3 database\n",
    "This section shows how we ingest the database to an sqlite3 database.\n",
    "***"
   ]
  },
  {
   "cell_type": "code",
   "execution_count": 27,
   "id": "66bbb3c9-61de-4904-8d53-d90ff198625a",
   "metadata": {},
   "outputs": [],
   "source": [
    "conn = sqlite3.connect('Airline.db')\n",
    "cursor = conn.cursor()"
   ]
  },
  {
   "cell_type": "code",
   "execution_count": 28,
   "id": "9e516286-c974-4310-8168-26fc0d33a7af",
   "metadata": {},
   "outputs": [
    {
     "data": {
      "text/plain": [
       "100"
      ]
     },
     "execution_count": 28,
     "metadata": {},
     "output_type": "execute_result"
    }
   ],
   "source": [
    "flights.to_sql('flights', conn, if_exists='replace', index=False)\n",
    "bookings.to_sql('bookings', conn, if_exists='replace', index=False)"
   ]
  },
  {
   "cell_type": "code",
   "execution_count": 29,
   "id": "04efa696-b394-49d3-a069-d164a5f1e6ac",
   "metadata": {},
   "outputs": [
    {
     "name": "stdout",
     "output_type": "stream",
     "text": [
      "Table: flights\n",
      "Column: flight_id\n",
      "Column: flight_hour\n",
      "Column: flight_day\n",
      "Column: route\n",
      "Column: flight_duration\n",
      "Table: bookings\n",
      "Column: booking_id\n",
      "Column: num_passengers\n",
      "Column: sales_channel\n",
      "Column: trip_type\n",
      "Column: purchase_lead\n",
      "Column: length_of_stay\n",
      "Column: flight_id\n",
      "Column: booking_origin\n",
      "Column: wants_extra_baggage\n",
      "Column: wants_preferred_seat\n",
      "Column: wants_in_flight_meals\n",
      "Column: booking_complete\n"
     ]
    }
   ],
   "source": [
    "cursor.execute(\"SELECT name FROM sqlite_master WHERE type='table';\")\n",
    "tables = cursor.fetchall()\n",
    "for table in tables:\n",
    "    print(f\"Table: {table[0]}\")\n",
    "    cursor.execute(f\"PRAGMA table_info({table[0]});\")\n",
    "    columns = cursor.fetchall()\n",
    "    for column in columns:\n",
    "        print(f\"Column: {column[1]}\")\n"
   ]
  },
  {
   "cell_type": "code",
   "execution_count": 30,
   "id": "45d0e95b-f3f5-4873-9a43-30efbe6cf8fa",
   "metadata": {},
   "outputs": [],
   "source": [
    "tables = cursor.fetchall()\n",
    "for table in tables:\n",
    "    table_name = table[0]\n",
    "    print(f\"Table: {table_name}\")\n",
    "    \n",
    "    cursor.execute(f\"PRAGMA_table_info('{table_name}')\")\n",
    "    columns = cursor.fetchall()\n",
    "    \n",
    "    for column in columns:\n",
    "        print(f\"Column: {column[1]} | Type: {column[2]}\") "
   ]
  },
  {
   "cell_type": "markdown",
   "id": "6ab7856d",
   "metadata": {},
   "source": [
    "[ref]: #top\n",
    "[Back to Table of Contents][ref]"
   ]
  }
 ],
 "metadata": {
  "kernelspec": {
   "display_name": "Python 3 (ipykernel)",
   "language": "python",
   "name": "python3"
  },
  "language_info": {
   "codemirror_mode": {
    "name": "ipython",
    "version": 3
   },
   "file_extension": ".py",
   "mimetype": "text/x-python",
   "name": "python",
   "nbconvert_exporter": "python",
   "pygments_lexer": "ipython3",
   "version": "3.12.4"
  }
 },
 "nbformat": 4,
 "nbformat_minor": 5
}
