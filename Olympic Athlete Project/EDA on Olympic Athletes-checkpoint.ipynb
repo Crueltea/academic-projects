{
 "cells": [
  {
   "cell_type": "code",
   "execution_count": 1,
   "id": "46ead0c6-9146-4405-8e21-31cb8e823dc1",
   "metadata": {},
   "outputs": [
    {
     "data": {
      "text/html": [
       "\n",
       "<script\n",
       "    src=\"https://cdnjs.cloudflare.com/ajax/libs/jquery/2.0.3/jquery.min.js \">\n",
       "</script>\n",
       "<script>\n",
       "code_show=true; \n",
       "function code_toggle() {\n",
       " if (code_show){\n",
       " $('div.jp-CodeCell > div.jp-Cell-inputWrapper').hide();\n",
       " } else {\n",
       "$('div.jp-CodeCell > div.jp-Cell-inputWrapper').show();\n",
       " }\n",
       " code_show = !code_show\n",
       "} \n",
       "$( document ).ready(code_toggle);\n",
       "</script>\n",
       "<form action=\"javascript:code_toggle()\"><input type=\"submit\"\n",
       "    value=\"Click here to toggle on/off the raw code.\"></form>\n"
      ],
      "text/plain": [
       "<IPython.core.display.HTML object>"
      ]
     },
     "execution_count": 1,
     "metadata": {},
     "output_type": "execute_result"
    }
   ],
   "source": [
    "import os\n",
    "import sys\n",
    "os.environ['PYSPARK_PYTHON'] = sys.executable\n",
    "os.environ['PYSPARK_DRIVER_PYTHON'] = sys.executable\n",
    "from IPython.display import HTML\n",
    "from pyspark.sql import SparkSession\n",
    "from pyspark.sql.functions import col, avg\n",
    "from pyspark.sql.functions import count, when\n",
    "from pyspark.sql.functions import abs\n",
    "HTML('''\n",
    "<script\n",
    "    src=\"https://cdnjs.cloudflare.com/ajax/libs/jquery/2.0.3/jquery.min.js \">\n",
    "</script>\n",
    "<script>\n",
    "code_show=true; \n",
    "function code_toggle() {\n",
    " if (code_show){\n",
    " $('div.jp-CodeCell > div.jp-Cell-inputWrapper').hide();\n",
    " } else {\n",
    "$('div.jp-CodeCell > div.jp-Cell-inputWrapper').show();\n",
    " }\n",
    " code_show = !code_show\n",
    "} \n",
    "$( document ).ready(code_toggle);\n",
    "</script>\n",
    "<form action=\"javascript:code_toggle()\"><input type=\"submit\"\n",
    "    value=\"Click here to toggle on/off the raw code.\"></form>\n",
    "''')\n"
   ]
  },
  {
   "cell_type": "markdown",
   "id": "58e13122-7f19-4a71-94c0-047bdd14c458",
   "metadata": {
    "tags": []
   },
   "source": [
    "<h1 style=\"text-align:center;\">Exploratory Data Analysis of Olympic Data Using PySpark</h1>\n",
    "<hr>\n",
    "\n",
    "<a name=\"top\"></a>\n",
    "#### Table of Contents:\n",
    "\n",
    "[ref0]: #prob_stat\n",
    "- [Problem Statement][ref0]\n",
    "\n",
    "[ref1]: #dat_prep\n",
    "- [Data Preprocessing][ref1]\n",
    "\n",
    "[ref2]: #dat_cln\n",
    "- [Data Cleaning][ref2]\n",
    "\n",
    "[ref3]: #dat_expl\n",
    "- [Data Exploration][ref3]\n",
    "\n",
    "[ref4]: #conc\n",
    "- [Conclusion and Recommendations][ref4]\n",
    "\n",
    "[ref5]: #dat_set\n",
    "- [Dataset][ref5]\n",
    "\n",
    "\n",
    "***"
   ]
  },
  {
   "cell_type": "markdown",
   "id": "cb984982-ae7d-4b03-92bb-a338fb166565",
   "metadata": {},
   "source": [
    "<a name=\"prob_stat\"></a>\n",
    "## Problem Statement\n",
    "***\n",
    "Basketball is a popular sport in the Philippines; however, many Filipinos face genetic limitations that challenge their ability to compete at the highest levels internationally. To address this, we aim to leverage the Olympic dataset to perform a comprehensive exploratory data analysis (EDA). By comparing the height and weight profiles of Filipino athletes with those from other countries, we intend to identify nations with similar body types that have achieved significant success in the Olympics.\n",
    "\n",
    "Our goal is to uncover which sports these similar-profile countries excel in and to analyze the number of medals they have won in these sports. This analysis will guide us in identifying sports where Filipinos might have a competitive edge, helping to strategically focus on disciplines where we can enhance our chances of winning medals and achieving international success.\n",
    "\n",
    "[ref]: #top\n",
    "[Back to Table of Contents][ref]"
   ]
  },
  {
   "cell_type": "markdown",
   "id": "4ddae4a4-5bf2-4e10-a914-93c75fd698bf",
   "metadata": {},
   "source": [
    "<a name=\"dat_prep\"></a>\n",
    "## Data Preprocessing\n",
    "***"
   ]
  },
  {
   "cell_type": "code",
   "execution_count": 2,
   "id": "e7d4a2d5-b2fd-42c5-b8b2-09f0f623db97",
   "metadata": {},
   "outputs": [],
   "source": [
    "# Loading dataset\n",
    "spark = SparkSession.builder.appName(\"EDA\").getOrCreate()\n",
    "df = spark.read.csv(\"athlete_events.csv\", header=True, inferSchema=True)"
   ]
  },
  {
   "cell_type": "code",
   "execution_count": 3,
   "id": "c57141f4-da05-43e1-8154-45d15dc5dca0",
   "metadata": {},
   "outputs": [
    {
     "name": "stdout",
     "output_type": "stream",
     "text": [
      "root\n",
      " |-- ID: integer (nullable = true)\n",
      " |-- Name: string (nullable = true)\n",
      " |-- Sex: string (nullable = true)\n",
      " |-- Age: string (nullable = true)\n",
      " |-- Height: string (nullable = true)\n",
      " |-- Weight: string (nullable = true)\n",
      " |-- Team: string (nullable = true)\n",
      " |-- NOC: string (nullable = true)\n",
      " |-- Games: string (nullable = true)\n",
      " |-- Year: string (nullable = true)\n",
      " |-- Season: string (nullable = true)\n",
      " |-- City: string (nullable = true)\n",
      " |-- Sport: string (nullable = true)\n",
      " |-- Event: string (nullable = true)\n",
      " |-- Medal: string (nullable = true)\n",
      "\n"
     ]
    }
   ],
   "source": [
    "df.printSchema()"
   ]
  },
  {
   "cell_type": "markdown",
   "id": "35b9e513-0b1e-4d7a-892d-2a16e02a873e",
   "metadata": {},
   "source": [
    "#### Viewing Data "
   ]
  },
  {
   "cell_type": "code",
   "execution_count": 4,
   "id": "cdeb20a7-382e-444d-88a0-944f4bf2b3d0",
   "metadata": {},
   "outputs": [
    {
     "name": "stdout",
     "output_type": "stream",
     "text": [
      "+---+--------------------+---+---+------+------+--------------+---+-----------+----+------+---------+-------------+--------------------+-----+\n",
      "| ID|                Name|Sex|Age|Height|Weight|          Team|NOC|      Games|Year|Season|     City|        Sport|               Event|Medal|\n",
      "+---+--------------------+---+---+------+------+--------------+---+-----------+----+------+---------+-------------+--------------------+-----+\n",
      "|  1|           A Dijiang|  M| 24|   180|    80|         China|CHN|1992 Summer|1992|Summer|Barcelona|   Basketball|Basketball Men's ...|   NA|\n",
      "|  2|            A Lamusi|  M| 23|   170|    60|         China|CHN|2012 Summer|2012|Summer|   London|         Judo|Judo Men's Extra-...|   NA|\n",
      "|  3| Gunnar Nielsen Aaby|  M| 24|    NA|    NA|       Denmark|DEN|1920 Summer|1920|Summer|Antwerpen|     Football|Football Men's Fo...|   NA|\n",
      "|  4|Edgar Lindenau Aabye|  M| 34|    NA|    NA|Denmark/Sweden|DEN|1900 Summer|1900|Summer|    Paris|   Tug-Of-War|Tug-Of-War Men's ...| Gold|\n",
      "|  5|Christine Jacoba ...|  F| 21|   185|    82|   Netherlands|NED|1988 Winter|1988|Winter|  Calgary|Speed Skating|Speed Skating Wom...|   NA|\n",
      "+---+--------------------+---+---+------+------+--------------+---+-----------+----+------+---------+-------------+--------------------+-----+\n",
      "\n"
     ]
    }
   ],
   "source": [
    "df.limit(5).show()"
   ]
  },
  {
   "cell_type": "markdown",
   "id": "7450373b-f5b9-4a84-86b1-ca4b24a351ff",
   "metadata": {},
   "source": [
    "#### Selecting Specific Columns"
   ]
  },
  {
   "cell_type": "code",
   "execution_count": 5,
   "id": "64bb2448-03a2-477f-9705-6cc806391544",
   "metadata": {},
   "outputs": [
    {
     "name": "stdout",
     "output_type": "stream",
     "text": [
      "+-------------+\n",
      "|Sport        |\n",
      "+-------------+\n",
      "|Gymnastics   |\n",
      "|Tennis       |\n",
      "|Boxing       |\n",
      "|Ice Hockey   |\n",
      "|Golf         |\n",
      "|Rowing       |\n",
      "|Judo         |\n",
      "|Softball     |\n",
      "|Beijing      |\n",
      "|Sailing      |\n",
      "|Grenoble     |\n",
      "|Swimming     |\n",
      "|Stockholm    |\n",
      "|Squaw Valley |\n",
      "|Los Angeles  |\n",
      "|Alpine Skiing|\n",
      "|Sarajevo     |\n",
      "|Oslo         |\n",
      "|Basketball   |\n",
      "|Handball     |\n",
      "+-------------+\n",
      "only showing top 20 rows\n",
      "\n"
     ]
    }
   ],
   "source": [
    "# Get unique values in the 'Sport' column\n",
    "unique_sports = df.select('Sport').distinct()\n",
    "\n",
    "# Show the unique sports\n",
    "unique_sports.show(truncate=False)"
   ]
  },
  {
   "cell_type": "markdown",
   "id": "5fdbecbe-28f3-4dd8-90ff-cd6ce488084d",
   "metadata": {},
   "source": [
    "<a name=\"dat_cln\"></a>\n",
    "## Data Cleaning\n",
    "***"
   ]
  },
  {
   "cell_type": "markdown",
   "id": "ce85b1c3-27b4-4c72-8870-c7f9159b76cf",
   "metadata": {},
   "source": [
    "#### Null Handling"
   ]
  },
  {
   "cell_type": "code",
   "execution_count": 6,
   "id": "6193a7f7-7efd-4c63-8066-290c5c8ddd62",
   "metadata": {},
   "outputs": [
    {
     "name": "stdout",
     "output_type": "stream",
     "text": [
      "+---+----+---+---+------+------+----+---+-----+----+------+----+-----+-----+-----+\n",
      "| ID|Name|Sex|Age|Height|Weight|Team|NOC|Games|Year|Season|City|Sport|Event|Medal|\n",
      "+---+----+---+---+------+------+----+---+-----+----+------+----+-----+-----+-----+\n",
      "|  0|   0|  0|  0|     0|     0|   0|  0|    0|   0|     0|   0|    0|    0|    0|\n",
      "+---+----+---+---+------+------+----+---+-----+----+------+----+-----+-----+-----+\n",
      "\n"
     ]
    }
   ],
   "source": [
    "df.select([count(when(col(c).isNull(), c)).alias(c) for c in df.columns]).show()\n",
    "# It shows there is no NULL value but NA values might the beauty of the outputs so I will remove those"
   ]
  },
  {
   "cell_type": "code",
   "execution_count": 7,
   "id": "b6020bb6-471b-4b5f-bcc5-ba24f68e6337",
   "metadata": {},
   "outputs": [
    {
     "name": "stdout",
     "output_type": "stream",
     "text": [
      "+---+--------------------+---+---+------+------+-----------+---+-----------+----+------+--------------+-------------+--------------------+------+\n",
      "| ID|                Name|Sex|Age|Height|Weight|       Team|NOC|      Games|Year|Season|          City|        Sport|               Event| Medal|\n",
      "+---+--------------------+---+---+------+------+-----------+---+-----------+----+------+--------------+-------------+--------------------+------+\n",
      "| 16|Juhamatti Tapio A...|  M| 28|   184|    85|    Finland|FIN|2014 Winter|2014|Winter|         Sochi|   Ice Hockey|Ice Hockey Men's ...|Bronze|\n",
      "| 17|Paavo Johannes Aa...|  M| 28|   175|    64|    Finland|FIN|1948 Summer|1948|Summer|        London|   Gymnastics|Gymnastics Men's ...|Bronze|\n",
      "| 17|Paavo Johannes Aa...|  M| 28|   175|    64|    Finland|FIN|1948 Summer|1948|Summer|        London|   Gymnastics|Gymnastics Men's ...|  Gold|\n",
      "| 17|Paavo Johannes Aa...|  M| 28|   175|    64|    Finland|FIN|1948 Summer|1948|Summer|        London|   Gymnastics|Gymnastics Men's ...|  Gold|\n",
      "| 17|Paavo Johannes Aa...|  M| 28|   175|    64|    Finland|FIN|1948 Summer|1948|Summer|        London|   Gymnastics|Gymnastics Men's ...|  Gold|\n",
      "| 17|Paavo Johannes Aa...|  M| 32|   175|    64|    Finland|FIN|1952 Summer|1952|Summer|      Helsinki|   Gymnastics|Gymnastics Men's ...|Bronze|\n",
      "| 20|  Kjetil Andr Aamodt|  M| 20|   176|    85|     Norway|NOR|1992 Winter|1992|Winter|   Albertville|Alpine Skiing|Alpine Skiing Men...|  Gold|\n",
      "| 20|  Kjetil Andr Aamodt|  M| 20|   176|    85|     Norway|NOR|1992 Winter|1992|Winter|   Albertville|Alpine Skiing|Alpine Skiing Men...|Bronze|\n",
      "| 20|  Kjetil Andr Aamodt|  M| 22|   176|    85|     Norway|NOR|1994 Winter|1994|Winter|   Lillehammer|Alpine Skiing|Alpine Skiing Men...|Silver|\n",
      "| 20|  Kjetil Andr Aamodt|  M| 22|   176|    85|     Norway|NOR|1994 Winter|1994|Winter|   Lillehammer|Alpine Skiing|Alpine Skiing Men...|Bronze|\n",
      "| 20|  Kjetil Andr Aamodt|  M| 22|   176|    85|     Norway|NOR|1994 Winter|1994|Winter|   Lillehammer|Alpine Skiing|Alpine Skiing Men...|Silver|\n",
      "| 20|  Kjetil Andr Aamodt|  M| 30|   176|    85|     Norway|NOR|2002 Winter|2002|Winter|Salt Lake City|Alpine Skiing|Alpine Skiing Men...|  Gold|\n",
      "| 20|  Kjetil Andr Aamodt|  M| 30|   176|    85|     Norway|NOR|2002 Winter|2002|Winter|Salt Lake City|Alpine Skiing|Alpine Skiing Men...|  Gold|\n",
      "| 20|  Kjetil Andr Aamodt|  M| 34|   176|    85|     Norway|NOR|2006 Winter|2006|Winter|        Torino|Alpine Skiing|Alpine Skiing Men...|  Gold|\n",
      "| 30|    Pepijn Aardewijn|  M| 26|   189|    72|Netherlands|NED|1996 Summer|1996|Summer|       Atlanta|       Rowing|Rowing Men's Ligh...|Silver|\n",
      "| 37|  Ann Kristin Aarnes|  F| 23|   182|    64|     Norway|NOR|1996 Summer|1996|Summer|       Atlanta|     Football|Football Women's ...|Bronze|\n",
      "| 62|   Giovanni Abagnale|  M| 21|   198|    90|      Italy|ITA|2016 Summer|2016|Summer|Rio de Janeiro|       Rowing|Rowing Men's Coxl...|Bronze|\n",
      "| 63| Jos Luis Abajo Gmez|  M| 30|   194|    87|      Spain|ESP|2008 Summer|2008|Summer|       Beijing|      Fencing|Fencing Men's epe...|Bronze|\n",
      "| 65|   Patimat Abakarova|  F| 21|   165|    49| Azerbaijan|AZE|2016 Summer|2016|Summer|Rio de Janeiro|    Taekwondo|Taekwondo Women's...|Bronze|\n",
      "| 67|Mariya Vasilyevna...|  F| 22|   179|    80|     Russia|RUS|2008 Summer|2008|Summer|       Beijing|    Athletics|Athletics Women's...|Silver|\n",
      "+---+--------------------+---+---+------+------+-----------+---+-----------+----+------+--------------+-------------+--------------------+------+\n",
      "only showing top 20 rows\n",
      "\n"
     ]
    }
   ],
   "source": [
    "# Convert Height and Weight to numeric types, if they're not already\n",
    "from pyspark.sql.functions import col, when\n",
    "\n",
    "# Replace 'NA' with null values in Height and Weight, and then drop rows with null values\n",
    "df_clean = df.withColumn(\"Height\", when(col(\"Height\") == \"NA\", None).otherwise(col(\"Height\"))) \\\n",
    "             .withColumn(\"Weight\", when(col(\"Weight\") == \"NA\", None).otherwise(col(\"Weight\"))) \\\n",
    "             .dropna(subset=[\"Height\", \"Weight\"]) \\\n",
    "             .filter(col(\"Medal\") != \"NA\")\n",
    "\n",
    "df_clean.show()"
   ]
  },
  {
   "cell_type": "markdown",
   "id": "d0fe21a6-1e13-4223-9410-82c3bb4ebb3d",
   "metadata": {},
   "source": [
    "<a name=\"dat_expl\"></a>\n",
    "## Data Exploration\n",
    "***"
   ]
  },
  {
   "cell_type": "markdown",
   "id": "c8dbd31e-a247-49d9-9b7c-2488c79ef0e9",
   "metadata": {},
   "source": [
    "#### Data Aggregation"
   ]
  },
  {
   "cell_type": "code",
   "execution_count": 8,
   "id": "b7ad5401-9836-4c16-8d8c-344fa9f1de80",
   "metadata": {},
   "outputs": [
    {
     "name": "stdout",
     "output_type": "stream",
     "text": [
      "Philippines Male - Avg Height: 165.71428571428572, Avg Weight: 59.285714285714285\n",
      "Philippines Female - Avg Height: 149.0, Avg Weight: 53.0\n"
     ]
    }
   ],
   "source": [
    "# Filter by gender and Philippines\n",
    "df_philippines_male = df_clean.filter((col(\"Team\") == \"Philippines\") & (col(\"Sex\") == \"M\"))\n",
    "df_philippines_female = df_clean.filter((col(\"Team\") == \"Philippines\") & (col(\"Sex\") == \"F\"))\n",
    "\n",
    "# Calculate average height and weight for each gender\n",
    "avg_height_weight_philippines_male = df_philippines_male.agg(\n",
    "    avg(col(\"Height\")).alias(\"Avg_Height\"),\n",
    "    avg(col(\"Weight\")).alias(\"Avg_Weight\")\n",
    ").collect()[0]\n",
    "\n",
    "avg_height_weight_philippines_female = df_philippines_female.agg(\n",
    "    avg(col(\"Height\")).alias(\"Avg_Height\"),\n",
    "    avg(col(\"Weight\")).alias(\"Avg_Weight\")\n",
    ").collect()[0]\n",
    "\n",
    "avg_height_philippines_male = avg_height_weight_philippines_male[\"Avg_Height\"]\n",
    "avg_weight_philippines_male = avg_height_weight_philippines_male[\"Avg_Weight\"]\n",
    "\n",
    "avg_height_philippines_female = avg_height_weight_philippines_female[\"Avg_Height\"]\n",
    "avg_weight_philippines_female = avg_height_weight_philippines_female[\"Avg_Weight\"]\n",
    "\n",
    "print(f\"Philippines Male - Avg Height: {avg_height_philippines_male}, Avg Weight: {avg_weight_philippines_male}\")\n",
    "print(f\"Philippines Female - Avg Height: {avg_height_philippines_female}, Avg Weight: {avg_weight_philippines_female}\")\n"
   ]
  },
  {
   "cell_type": "code",
   "execution_count": 9,
   "id": "3e6d6934-7021-488a-be91-191c3aea5724",
   "metadata": {},
   "outputs": [
    {
     "name": "stdout",
     "output_type": "stream",
     "text": [
      "+--------------------+------------------+------------------+\n",
      "|                Team|        Avg_Height|        Avg_Weight|\n",
      "+--------------------+------------------+------------------+\n",
      "|              Guyana|             173.0|              54.0|\n",
      "|                Iraq|             174.0|              67.0|\n",
      "|               India|171.14285714285714| 65.74725274725274|\n",
      "|               China|170.80602006688963|  66.1438127090301|\n",
      "|             Ireland|             174.8|              67.5|\n",
      "|            Thailand|          167.9375|           58.3125|\n",
      "|             Morocco|174.31578947368422|              60.0|\n",
      "|           Venezuela| 172.1818181818182| 62.09090909090909|\n",
      "|              Mexico|  173.135593220339|  65.2542372881356|\n",
      "|           Indonesia|             167.2| 67.33333333333333|\n",
      "|        Saudi Arabia|             175.6|              67.4|\n",
      "|              Uganda|171.28571428571428|61.285714285714285|\n",
      "|            Ethiopia|169.16666666666666|56.233333333333334|\n",
      "|          Kyrgyzstan|             166.0|              62.0|\n",
      "|               Kenya|174.96428571428572|63.154761904761905|\n",
      "|               Japan| 170.6378676470588|  68.2279411764706|\n",
      "|            Portugal|175.53333333333333|              69.2|\n",
      "|            Colombia|169.85714285714286|63.214285714285715|\n",
      "|Winnipeg Shamrocks-1|             174.0|              66.5|\n",
      "|          Malaysia-1|             170.0|              66.5|\n",
      "+--------------------+------------------+------------------+\n",
      "only showing top 20 rows\n",
      "\n",
      "+--------------+------------------+------------------+\n",
      "|          Team|        Avg_Height|        Avg_Weight|\n",
      "+--------------+------------------+------------------+\n",
      "|       Algeria|158.33333333333334|51.666666666666664|\n",
      "|      Thailand|155.71428571428572|              54.0|\n",
      "|     Indonesia|             154.2|              52.1|\n",
      "|Unified Team-2|             159.0|              46.5|\n",
      "|   Philippines|             149.0|              53.0|\n",
      "|      Malaysia|             158.5|              53.5|\n",
      "|       Moldova|             155.0|              53.0|\n",
      "|     Hungary-1|             158.0|              48.0|\n",
      "|       Vietnam|             157.0|              47.0|\n",
      "+--------------+------------------+------------------+\n",
      "\n"
     ]
    }
   ],
   "source": [
    "# Calculate average height and weight for all countries, separated by gender\n",
    "df_country_avg_male = df_clean.filter(col(\"Sex\") == \"M\").groupBy(\"Team\").agg(\n",
    "    avg(col(\"Height\")).alias(\"Avg_Height\"),\n",
    "    avg(col(\"Weight\")).alias(\"Avg_Weight\")\n",
    ")\n",
    "\n",
    "df_country_avg_female = df_clean.filter(col(\"Sex\") == \"F\").groupBy(\"Team\").agg(\n",
    "    avg(col(\"Height\")).alias(\"Avg_Height\"),\n",
    "    avg(col(\"Weight\")).alias(\"Avg_Weight\")\n",
    ")\n",
    "\n",
    "# Find countries with similar body builds to Philippines, separated by gender\n",
    "tolerance = 10\n",
    "\n",
    "df_similar_builds_male = df_country_avg_male.filter(\n",
    "    (abs(col(\"Avg_Height\") - avg_height_philippines_male) <= tolerance) &\n",
    "    (abs(col(\"Avg_Weight\") - avg_weight_philippines_male) <= tolerance)\n",
    ")\n",
    "\n",
    "df_similar_builds_female = df_country_avg_female.filter(\n",
    "    (abs(col(\"Avg_Height\") - avg_height_philippines_female) <= tolerance) &\n",
    "    (abs(col(\"Avg_Weight\") - avg_weight_philippines_female) <= tolerance)\n",
    ")\n",
    "\n",
    "df_similar_builds_male.show()\n",
    "df_similar_builds_female.show()"
   ]
  },
  {
   "cell_type": "markdown",
   "id": "923966bb-03c7-4970-ace2-78e6b63e2299",
   "metadata": {},
   "source": [
    "#### Collecting the Output of an action"
   ]
  },
  {
   "cell_type": "code",
   "execution_count": 10,
   "id": "3fb9253d-3c7f-4ea3-bc2a-60b1b20ef4e6",
   "metadata": {},
   "outputs": [
    {
     "name": "stdout",
     "output_type": "stream",
     "text": [
      "+--------------------+----------------+\n",
      "|                Team|Number_of_Medals|\n",
      "+--------------------+----------------+\n",
      "|              Guyana|               1|\n",
      "|                Iraq|               1|\n",
      "|               India|              91|\n",
      "|               China|             299|\n",
      "|             Ireland|              20|\n",
      "|            Thailand|              16|\n",
      "|             Morocco|              19|\n",
      "|           Venezuela|              11|\n",
      "|              Mexico|              59|\n",
      "|           Indonesia|              15|\n",
      "|        Saudi Arabia|               5|\n",
      "|              Uganda|               7|\n",
      "|            Ethiopia|              30|\n",
      "|          Kyrgyzstan|               3|\n",
      "|               Kenya|              84|\n",
      "|               Japan|             544|\n",
      "|            Portugal|              15|\n",
      "|            Colombia|              14|\n",
      "|Winnipeg Shamrocks-1|               2|\n",
      "|          Malaysia-1|               2|\n",
      "+--------------------+----------------+\n",
      "only showing top 20 rows\n",
      "\n",
      "+--------------+----------------+\n",
      "|          Team|Number_of_Medals|\n",
      "+--------------+----------------+\n",
      "|       Algeria|               3|\n",
      "|      Thailand|              14|\n",
      "|     Indonesia|              10|\n",
      "|Unified Team-2|               2|\n",
      "|   Philippines|               1|\n",
      "|      Malaysia|               4|\n",
      "|       Moldova|               1|\n",
      "|     Hungary-1|               1|\n",
      "|       Vietnam|               1|\n",
      "+--------------+----------------+\n",
      "\n"
     ]
    }
   ],
   "source": [
    "# Join with the cleaned dataset to get medal counts, separated by gender\n",
    "\n",
    "# Rename the 'Team' column in df_clean to avoid ambiguity\n",
    "df_clean_male = df_clean.filter(col(\"Sex\") == \"M\").withColumnRenamed(\"Team\", \"Team_Clean\")\n",
    "df_clean_female = df_clean.filter(col(\"Sex\") == \"F\").withColumnRenamed(\"Team\", \"Team_Clean\")\n",
    "\n",
    "# Join with the cleaned dataset to get medal counts for males\n",
    "df_similar_medals_male = df_similar_builds_male.alias(\"avg\").join(\n",
    "    df_clean_male, \n",
    "    col(\"avg.Team\") == col(\"Team_Clean\"), \n",
    "    \"inner\"\n",
    ").groupBy(\"avg.Team\").count().alias(\"Number_of_Medals\")\n",
    "\n",
    "# Rename the count column to \"Number_of_Medals\"\n",
    "df_similar_medals_male = df_similar_medals_male.withColumnRenamed(\"count\", \"Number_of_Medals\")\n",
    "\n",
    "# Join with the cleaned dataset to get medal counts for females\n",
    "df_similar_medals_female = df_similar_builds_female.alias(\"avg\").join(\n",
    "    df_clean_female, \n",
    "    col(\"avg.Team\") == col(\"Team_Clean\"), \n",
    "    \"inner\"\n",
    ").groupBy(\"avg.Team\").count().alias(\"Number_of_Medals\")\n",
    "\n",
    "# Rename the count column to \"Number_of_Medals\"\n",
    "df_similar_medals_female = df_similar_medals_female.withColumnRenamed(\"count\", \"Number_of_Medals\")\n",
    "\n",
    "# Show the results\n",
    "df_similar_medals_male.show()\n",
    "df_similar_medals_female.show()"
   ]
  },
  {
   "cell_type": "code",
   "execution_count": 11,
   "id": "3c6cf287-65b0-4a70-b55b-491a8a56ea3d",
   "metadata": {},
   "outputs": [
    {
     "name": "stdout",
     "output_type": "stream",
     "text": [
      "+------------+--------------------+----+------+------+\n",
      "|        Team|               Sport|Gold|Silver|Bronze|\n",
      "+------------+--------------------+----+------+------+\n",
      "|       Japan|          Gymnastics|  65|    41|    46|\n",
      "|       Japan|Short Track Speed...|   1|     0|     5|\n",
      "|    Ethiopia|           Athletics|  12|     6|    12|\n",
      "|       India|              Hockey|  39|    13|    30|\n",
      "|       China|           Athletics|   3|     1|     4|\n",
      "|       Japan|           Wrestling|  18|    15|    14|\n",
      "|      Mexico|       Equestrianism|   0|     0|     9|\n",
      "|  Kyrgyzstan|           Wrestling|   0|     1|     1|\n",
      "|      Guyana|              Boxing|   0|     0|     1|\n",
      "|       Japan|     Nordic Combined|   6|     2|     0|\n",
      "|      Mexico|           Athletics|   3|     4|     2|\n",
      "|     Morocco|           Athletics|   5|     4|     6|\n",
      "|    Colombia|            Shooting|   0|     2|     0|\n",
      "|       Japan|            Baseball|   0|    20|    44|\n",
      "|      Mexico|           Wrestling|   0|     1|     0|\n",
      "|       Japan|                Judo|  28|    10|    14|\n",
      "|       Japan|             Fencing|   0|     5|     0|\n",
      "|   Venezuela|              Boxing|   1|     2|     3|\n",
      "|Saudi Arabia|           Athletics|   0|     1|     0|\n",
      "|    Thailand|              Boxing|   4|     4|     6|\n",
      "+------------+--------------------+----+------+------+\n",
      "only showing top 20 rows\n",
      "\n",
      "+--------------+--------------+----+------+------+\n",
      "|          Team|         Sport|Gold|Silver|Bronze|\n",
      "+--------------+--------------+----+------+------+\n",
      "|     Indonesia| Weightlifting|   0|     3|     2|\n",
      "|       Algeria|     Athletics|   2|     0|     0|\n",
      "|Unified Team-2|Figure Skating|   0|     1|     1|\n",
      "|      Thailand|     Taekwondo|   0|     1|     3|\n",
      "|      Malaysia|        Diving|   0|     2|     1|\n",
      "|   Philippines| Weightlifting|   0|     1|     0|\n",
      "|      Malaysia|     Badminton|   0|     1|     0|\n",
      "|       Algeria|          Judo|   0|     0|     1|\n",
      "|      Thailand| Weightlifting|   5|     2|     3|\n",
      "|     Indonesia|       Archery|   0|     3|     0|\n",
      "|       Moldova| Weightlifting|   0|     0|     1|\n",
      "|     Hungary-1|Figure Skating|   0|     0|     1|\n",
      "|     Indonesia|     Badminton|   0|     1|     1|\n",
      "|       Vietnam|     Taekwondo|   0|     1|     0|\n",
      "+--------------+--------------+----+------+------+\n",
      "\n"
     ]
    }
   ],
   "source": [
    "# Rename 'Team' column in df_clean to avoid ambiguity\n",
    "df_clean_male = df_clean.filter(col(\"Sex\") == \"M\").withColumnRenamed(\"Team\", \"Team_Clean\")\n",
    "df_clean_female = df_clean.filter(col(\"Sex\") == \"F\").withColumnRenamed(\"Team\", \"Team_Clean\")\n",
    "\n",
    "# Join and count medals for males\n",
    "df_medals_male = df_clean_male.join(\n",
    "    df_similar_builds_male.withColumnRenamed(\"Team\", \"Team_Similar\"),\n",
    "    col(\"Team_Clean\") == col(\"Team_Similar\"),\n",
    "    \"inner\"\n",
    ").groupBy(\"Team_Clean\", \"Sport\").agg(\n",
    "    count(when(col(\"Medal\") == \"Gold\", 1)).alias(\"Gold\"),\n",
    "    count(when(col(\"Medal\") == \"Silver\", 1)).alias(\"Silver\"),\n",
    "    count(when(col(\"Medal\") == \"Bronze\", 1)).alias(\"Bronze\"),\n",
    ")\n",
    "\n",
    "# Join and count medals for females\n",
    "df_medals_female = df_clean_female.join(\n",
    "    df_similar_builds_female.withColumnRenamed(\"Team\", \"Team_Similar\"),\n",
    "    col(\"Team_Clean\") == col(\"Team_Similar\"),\n",
    "    \"inner\"\n",
    ").groupBy(\"Team_Clean\", \"Sport\").agg(\n",
    "    count(when(col(\"Medal\") == \"Gold\", 1)).alias(\"Gold\"),\n",
    "    count(when(col(\"Medal\") == \"Silver\", 1)).alias(\"Silver\"),\n",
    "    count(when(col(\"Medal\") == \"Bronze\", 1)).alias(\"Bronze\"))\n",
    "\n",
    "\n",
    "# Rename 'Team_Clean' back to 'Team' for clarity\n",
    "df_medals_male = df_medals_male.withColumnRenamed(\"Team_Clean\", \"Team\")\n",
    "df_medals_female = df_medals_female.withColumnRenamed(\"Team_Clean\", \"Team\")\n",
    "\n",
    "# Show the results\n",
    "df_medals_male.show()\n",
    "df_medals_female.show()\n"
   ]
  },
  {
   "cell_type": "markdown",
   "id": "f22b5faa-d5a4-4920-9865-ea4b5367f4c2",
   "metadata": {},
   "source": [
    "<a name=\"conc\"></a>\n",
    "## Conclusion and Recommendations\n",
    "***\n",
    "\n",
    "Our analysis indicates that countries with athletic profiles similar to Filipino athletes have achieved notable success in specific Olympic sports. For male athletes, Gymnastics, Wrestling, Baseball, Boxing, Hockey, and Judo have proven to be areas of significant medal success. For female athletes, Weightlifting, Athletics, and Archery stand out.\n",
    "\n",
    "This correlation aligns with real-world examples. The Philippines won its first-ever Olympic gold medal through weightlifter Hidilyn Diaz, who notably defeated China, a leading contender in weightlifting. Additionally, Filipino gymnast Carlos Yulo has gained international acclaim, being recognized as one of the modern greats in gymnastics.\n",
    "\n",
    "These successes suggest that expanding the focus of Filipino sports culture beyond basketball could be advantageous. While basketball remains popular due to its accessibility and lower costs, embracing sports like Weightlifting, Gymnastics, and others could enhance the Philippines' competitive edge. We recommend that researchers further explore these sports in various countries using the dataset to identify additional opportunities for athletic development and international achievement.\n",
    "\n",
    "[ref]: #top\n",
    "[Back to Table of Contents][ref]"
   ]
  },
  {
   "cell_type": "markdown",
   "id": "b89821b4-5a83-40a9-883a-c8c01f5009e2",
   "metadata": {},
   "source": [
    "<a name=\"dat_set\"></a>\n",
    "## Dataset\n",
    "***\n",
    "For detailed insights and further analysis, you can access the dataset used in this study on Kaggle: \n",
    "[120 Years of Olympic History: Athletes and Results](https://www.kaggle.com/datasets/heesoo37/120-years-of-olympic-history-athletes-and-results/data)\n",
    "\n",
    "\n",
    "[ref]: #top\n",
    "[Back to Table of Contents][ref]"
   ]
  },
  {
   "cell_type": "code",
   "execution_count": null,
   "id": "afca9784-8400-4e61-a455-cfaf9e07383c",
   "metadata": {},
   "outputs": [],
   "source": []
  },
  {
   "cell_type": "code",
   "execution_count": null,
   "id": "cc9afa9a",
   "metadata": {},
   "outputs": [],
   "source": []
  }
 ],
 "metadata": {
  "kernelspec": {
   "display_name": "Python 3 (ipykernel)",
   "language": "python",
   "name": "python3"
  },
  "language_info": {
   "codemirror_mode": {
    "name": "ipython",
    "version": 3
   },
   "file_extension": ".py",
   "mimetype": "text/x-python",
   "name": "python",
   "nbconvert_exporter": "python",
   "pygments_lexer": "ipython3",
   "version": "3.9.13"
  }
 },
 "nbformat": 4,
 "nbformat_minor": 5
}
